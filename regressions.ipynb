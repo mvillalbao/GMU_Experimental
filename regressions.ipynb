{
 "cells": [
  {
   "cell_type": "markdown",
   "metadata": {},
   "source": [
    "# Practice - Model Specification"
   ]
  },
  {
   "cell_type": "markdown",
   "metadata": {},
   "source": [
    "## Setup"
   ]
  },
  {
   "cell_type": "code",
   "execution_count": 1,
   "metadata": {
    "vscode": {
     "languageId": "r"
    }
   },
   "outputs": [],
   "source": [
    "library(readr)"
   ]
  },
  {
   "cell_type": "markdown",
   "metadata": {},
   "source": [
    "## Importing Data"
   ]
  },
  {
   "cell_type": "markdown",
   "metadata": {},
   "source": [
    "For this practice we will be using the U.S. Current Population Survey (2015) dataset."
   ]
  },
  {
   "cell_type": "code",
   "execution_count": 2,
   "metadata": {
    "vscode": {
     "languageId": "r"
    }
   },
   "outputs": [
    {
     "name": "stderr",
     "output_type": "stream",
     "text": [
      "\u001b[1mRows: \u001b[22m\u001b[34m5150\u001b[39m \u001b[1mColumns: \u001b[22m\u001b[34m21\u001b[39m\n",
      "\u001b[36m──\u001b[39m \u001b[1mColumn specification\u001b[22m \u001b[36m────────────────────────────────────────────────────────\u001b[39m\n",
      "\u001b[1mDelimiter:\u001b[22m \",\"\n",
      "\u001b[32mdbl\u001b[39m (21): rownames, wage, lwage, sex, shs, hsg, scl, clg, ad, mw, so, we, ne...\n",
      "\n",
      "\u001b[36mℹ\u001b[39m Use `spec()` to retrieve the full column specification for this data.\n",
      "\u001b[36mℹ\u001b[39m Specify the column types or set `show_col_types = FALSE` to quiet this message.\n"
     ]
    },
    {
     "data": {
      "text/html": [
       "<table class=\"dataframe\">\n",
       "<caption>A tibble: 6 × 21</caption>\n",
       "<thead>\n",
       "\t<tr><th scope=col>rownames</th><th scope=col>wage</th><th scope=col>lwage</th><th scope=col>sex</th><th scope=col>shs</th><th scope=col>hsg</th><th scope=col>scl</th><th scope=col>clg</th><th scope=col>ad</th><th scope=col>mw</th><th scope=col>⋯</th><th scope=col>we</th><th scope=col>ne</th><th scope=col>exp1</th><th scope=col>exp2</th><th scope=col>exp3</th><th scope=col>exp4</th><th scope=col>occ</th><th scope=col>occ2</th><th scope=col>ind</th><th scope=col>ind2</th></tr>\n",
       "\t<tr><th scope=col>&lt;dbl&gt;</th><th scope=col>&lt;dbl&gt;</th><th scope=col>&lt;dbl&gt;</th><th scope=col>&lt;dbl&gt;</th><th scope=col>&lt;dbl&gt;</th><th scope=col>&lt;dbl&gt;</th><th scope=col>&lt;dbl&gt;</th><th scope=col>&lt;dbl&gt;</th><th scope=col>&lt;dbl&gt;</th><th scope=col>&lt;dbl&gt;</th><th scope=col>⋯</th><th scope=col>&lt;dbl&gt;</th><th scope=col>&lt;dbl&gt;</th><th scope=col>&lt;dbl&gt;</th><th scope=col>&lt;dbl&gt;</th><th scope=col>&lt;dbl&gt;</th><th scope=col>&lt;dbl&gt;</th><th scope=col>&lt;dbl&gt;</th><th scope=col>&lt;dbl&gt;</th><th scope=col>&lt;dbl&gt;</th><th scope=col>&lt;dbl&gt;</th></tr>\n",
       "</thead>\n",
       "<tbody>\n",
       "\t<tr><td>10</td><td> 9.615385</td><td>2.263364</td><td>1</td><td>0</td><td>0</td><td>0</td><td>1</td><td>0</td><td>0</td><td>⋯</td><td>0</td><td>1</td><td> 7</td><td>0.49</td><td> 0.343</td><td> 0.2401</td><td>3600</td><td>11</td><td>8370</td><td>18</td></tr>\n",
       "\t<tr><td>12</td><td>48.076923</td><td>3.872802</td><td>0</td><td>0</td><td>0</td><td>0</td><td>1</td><td>0</td><td>0</td><td>⋯</td><td>0</td><td>1</td><td>31</td><td>9.61</td><td>29.791</td><td>92.3521</td><td>3050</td><td>10</td><td>5070</td><td> 9</td></tr>\n",
       "\t<tr><td>15</td><td>11.057692</td><td>2.403126</td><td>0</td><td>0</td><td>1</td><td>0</td><td>0</td><td>0</td><td>0</td><td>⋯</td><td>0</td><td>1</td><td>18</td><td>3.24</td><td> 5.832</td><td>10.4976</td><td>6260</td><td>19</td><td> 770</td><td> 4</td></tr>\n",
       "\t<tr><td>18</td><td>13.942308</td><td>2.634928</td><td>1</td><td>0</td><td>0</td><td>0</td><td>0</td><td>1</td><td>0</td><td>⋯</td><td>0</td><td>1</td><td>25</td><td>6.25</td><td>15.625</td><td>39.0625</td><td> 420</td><td> 1</td><td>6990</td><td>12</td></tr>\n",
       "\t<tr><td>19</td><td>28.846154</td><td>3.361977</td><td>1</td><td>0</td><td>0</td><td>0</td><td>1</td><td>0</td><td>0</td><td>⋯</td><td>0</td><td>1</td><td>22</td><td>4.84</td><td>10.648</td><td>23.4256</td><td>2015</td><td> 6</td><td>9470</td><td>22</td></tr>\n",
       "\t<tr><td>30</td><td>11.730769</td><td>2.462215</td><td>1</td><td>0</td><td>0</td><td>0</td><td>1</td><td>0</td><td>0</td><td>⋯</td><td>0</td><td>1</td><td> 1</td><td>0.01</td><td> 0.001</td><td> 0.0001</td><td>1650</td><td> 5</td><td>7460</td><td>14</td></tr>\n",
       "</tbody>\n",
       "</table>\n"
      ],
      "text/latex": [
       "A tibble: 6 × 21\n",
       "\\begin{tabular}{lllllllllllllllllllll}\n",
       " rownames & wage & lwage & sex & shs & hsg & scl & clg & ad & mw & ⋯ & we & ne & exp1 & exp2 & exp3 & exp4 & occ & occ2 & ind & ind2\\\\\n",
       " <dbl> & <dbl> & <dbl> & <dbl> & <dbl> & <dbl> & <dbl> & <dbl> & <dbl> & <dbl> & ⋯ & <dbl> & <dbl> & <dbl> & <dbl> & <dbl> & <dbl> & <dbl> & <dbl> & <dbl> & <dbl>\\\\\n",
       "\\hline\n",
       "\t 10 &  9.615385 & 2.263364 & 1 & 0 & 0 & 0 & 1 & 0 & 0 & ⋯ & 0 & 1 &  7 & 0.49 &  0.343 &  0.2401 & 3600 & 11 & 8370 & 18\\\\\n",
       "\t 12 & 48.076923 & 3.872802 & 0 & 0 & 0 & 0 & 1 & 0 & 0 & ⋯ & 0 & 1 & 31 & 9.61 & 29.791 & 92.3521 & 3050 & 10 & 5070 &  9\\\\\n",
       "\t 15 & 11.057692 & 2.403126 & 0 & 0 & 1 & 0 & 0 & 0 & 0 & ⋯ & 0 & 1 & 18 & 3.24 &  5.832 & 10.4976 & 6260 & 19 &  770 &  4\\\\\n",
       "\t 18 & 13.942308 & 2.634928 & 1 & 0 & 0 & 0 & 0 & 1 & 0 & ⋯ & 0 & 1 & 25 & 6.25 & 15.625 & 39.0625 &  420 &  1 & 6990 & 12\\\\\n",
       "\t 19 & 28.846154 & 3.361977 & 1 & 0 & 0 & 0 & 1 & 0 & 0 & ⋯ & 0 & 1 & 22 & 4.84 & 10.648 & 23.4256 & 2015 &  6 & 9470 & 22\\\\\n",
       "\t 30 & 11.730769 & 2.462215 & 1 & 0 & 0 & 0 & 1 & 0 & 0 & ⋯ & 0 & 1 &  1 & 0.01 &  0.001 &  0.0001 & 1650 &  5 & 7460 & 14\\\\\n",
       "\\end{tabular}\n"
      ],
      "text/markdown": [
       "\n",
       "A tibble: 6 × 21\n",
       "\n",
       "| rownames &lt;dbl&gt; | wage &lt;dbl&gt; | lwage &lt;dbl&gt; | sex &lt;dbl&gt; | shs &lt;dbl&gt; | hsg &lt;dbl&gt; | scl &lt;dbl&gt; | clg &lt;dbl&gt; | ad &lt;dbl&gt; | mw &lt;dbl&gt; | ⋯ ⋯ | we &lt;dbl&gt; | ne &lt;dbl&gt; | exp1 &lt;dbl&gt; | exp2 &lt;dbl&gt; | exp3 &lt;dbl&gt; | exp4 &lt;dbl&gt; | occ &lt;dbl&gt; | occ2 &lt;dbl&gt; | ind &lt;dbl&gt; | ind2 &lt;dbl&gt; |\n",
       "|---|---|---|---|---|---|---|---|---|---|---|---|---|---|---|---|---|---|---|---|---|\n",
       "| 10 |  9.615385 | 2.263364 | 1 | 0 | 0 | 0 | 1 | 0 | 0 | ⋯ | 0 | 1 |  7 | 0.49 |  0.343 |  0.2401 | 3600 | 11 | 8370 | 18 |\n",
       "| 12 | 48.076923 | 3.872802 | 0 | 0 | 0 | 0 | 1 | 0 | 0 | ⋯ | 0 | 1 | 31 | 9.61 | 29.791 | 92.3521 | 3050 | 10 | 5070 |  9 |\n",
       "| 15 | 11.057692 | 2.403126 | 0 | 0 | 1 | 0 | 0 | 0 | 0 | ⋯ | 0 | 1 | 18 | 3.24 |  5.832 | 10.4976 | 6260 | 19 |  770 |  4 |\n",
       "| 18 | 13.942308 | 2.634928 | 1 | 0 | 0 | 0 | 0 | 1 | 0 | ⋯ | 0 | 1 | 25 | 6.25 | 15.625 | 39.0625 |  420 |  1 | 6990 | 12 |\n",
       "| 19 | 28.846154 | 3.361977 | 1 | 0 | 0 | 0 | 1 | 0 | 0 | ⋯ | 0 | 1 | 22 | 4.84 | 10.648 | 23.4256 | 2015 |  6 | 9470 | 22 |\n",
       "| 30 | 11.730769 | 2.462215 | 1 | 0 | 0 | 0 | 1 | 0 | 0 | ⋯ | 0 | 1 |  1 | 0.01 |  0.001 |  0.0001 | 1650 |  5 | 7460 | 14 |\n",
       "\n"
      ],
      "text/plain": [
       "  rownames wage      lwage    sex shs hsg scl clg ad mw ⋯ we ne exp1 exp2\n",
       "1 10        9.615385 2.263364 1   0   0   0   1   0  0  ⋯ 0  1   7   0.49\n",
       "2 12       48.076923 3.872802 0   0   0   0   1   0  0  ⋯ 0  1  31   9.61\n",
       "3 15       11.057692 2.403126 0   0   1   0   0   0  0  ⋯ 0  1  18   3.24\n",
       "4 18       13.942308 2.634928 1   0   0   0   0   1  0  ⋯ 0  1  25   6.25\n",
       "5 19       28.846154 3.361977 1   0   0   0   1   0  0  ⋯ 0  1  22   4.84\n",
       "6 30       11.730769 2.462215 1   0   0   0   1   0  0  ⋯ 0  1   1   0.01\n",
       "  exp3   exp4    occ  occ2 ind  ind2\n",
       "1  0.343  0.2401 3600 11   8370 18  \n",
       "2 29.791 92.3521 3050 10   5070  9  \n",
       "3  5.832 10.4976 6260 19    770  4  \n",
       "4 15.625 39.0625  420  1   6990 12  \n",
       "5 10.648 23.4256 2015  6   9470 22  \n",
       "6  0.001  0.0001 1650  5   7460 14  "
      ]
     },
     "metadata": {},
     "output_type": "display_data"
    }
   ],
   "source": [
    "urlfile <- \"https://raw.githubusercontent.com/mvillalbao/CausalInferenceML/refs/heads/main/data/wage2015_subsample_inference.csv\"\n",
    "\n",
    "data <- read_csv(url(urlfile))\n",
    "head(data)"
   ]
  },
  {
   "cell_type": "markdown",
   "metadata": {},
   "source": [
    "**Variable dictionary**\n",
    "\n",
    "- occ : occupational classification\n",
    "- ind : industry classification\n",
    "- lwage : log hourly wage\n",
    "- sex : gender (1 female) (0 male)\n",
    "- shs : some high school\n",
    "- hsg : High school graduated\n",
    "- scl : Some College\n",
    "- clg: College Graduate\n",
    "- ad: Advanced Degree\n",
    "- ne: Northeast\n",
    "- mw: Midwest\n",
    "- so: South\n",
    "- we: West\n",
    "- exp1: experience"
   ]
  },
  {
   "cell_type": "markdown",
   "metadata": {},
   "source": [
    "## Data Cleaning"
   ]
  },
  {
   "cell_type": "code",
   "execution_count": null,
   "metadata": {
    "vscode": {
     "languageId": "r"
    }
   },
   "outputs": [],
   "source": [
    "# Create the variable 'high_wage'\n",
    "data$high_wage <- ifelse(data$wage > mean(data$wage), 1, 0)\n",
    "\n",
    "# Create the variable 'college_or_above'\n",
    "data$college_or_above <- ifelse(data$clg == 1 | data$ad == 1, 1, 0)\n",
    "\n",
    "# Create the education variable based on the highest level of education attained\n",
    "data$education <- factor(ifelse(data$ad == 1, \"AD\",       # Advanced Degree\n",
    "                                ifelse(data$clg == 1, \"CLG\",  # College Degree\n",
    "                                ifelse(data$scl == 1, \"SCL\",  # Some College\n",
    "                                ifelse(data$hsg == 1, \"HSG\",  # High School Grad\n",
    "                                ifelse(data$shs == 1, \"SHS\",  # Some High School\n",
    "                                \"NONE\"))))),                 # No education\n",
    "                         levels = c(\"NONE\", \"SHS\", \"HSG\", \"SCL\", \"CLG\", \"AD\"))\n"
   ]
  },
  {
   "cell_type": "markdown",
   "metadata": {},
   "source": [
    "# Data Analysis"
   ]
  },
  {
   "cell_type": "markdown",
   "metadata": {},
   "source": [
    "### Case 1: Continuous Y and continuous X with intercept"
   ]
  },
  {
   "cell_type": "markdown",
   "metadata": {},
   "source": [
    "In this first case, we may want to explore how **experience** (`exp2`) relates to **wage** (our dependent variable). Since both **experience** and **wage** are continuous variables, we can apply a simple linear regression model with an intercept to capture this relationship.\n",
    "\n",
    "#### Regression Model:\n",
    "\n",
    "$$\n",
    "\\text{wage} = \\beta_0 + \\beta_1 \\cdot \\text{experience} + \\epsilon\n",
    "$$\n",
    "\n",
    "- $ \\beta_0 $: The **intercept**, representing the expected wage when experience is 0. This provides a baseline estimate.\n",
    "- $ \\beta_1 $: The **slope coefficient** on experience, which tells us how much we expect **wage** to change for a **one-unit increase** in experience (i.e., for each additional year of experience).\n",
    "\n",
    "#### Interpretation:\n",
    "In this context, the coefficient $ \\beta_1 $ on **experience** is interpreted as the **marginal effect** of an additional year of experience on wage. For instance, if $ \\beta_1 = 2 $, it would mean that for every additional year of experience, wage is predicted to increase by 2 units.\n",
    "\n",
    "Let's now estimate this relationship and review the regression output to interpret the results."
   ]
  },
  {
   "cell_type": "code",
   "execution_count": 3,
   "metadata": {
    "vscode": {
     "languageId": "r"
    }
   },
   "outputs": [
    {
     "data": {
      "text/plain": [
       "\n",
       "Call:\n",
       "lm(formula = wage ~ exp2, data = data)\n",
       "\n",
       "Residuals:\n",
       "   Min     1Q Median     3Q    Max \n",
       "-22.62 -10.07  -4.24   4.23 505.55 \n",
       "\n",
       "Coefficients:\n",
       "            Estimate Std. Error t value Pr(>|t|)    \n",
       "(Intercept) 22.64819    0.36626  61.836  < 2e-16 ***\n",
       "exp2         0.25248    0.07308   3.455 0.000555 ***\n",
       "---\n",
       "Signif. codes:  0 '***' 0.001 '**' 0.01 '*' 0.05 '.' 0.1 ' ' 1\n",
       "\n",
       "Residual standard error: 20.98 on 5148 degrees of freedom\n",
       "Multiple R-squared:  0.002313,\tAdjusted R-squared:  0.002119 \n",
       "F-statistic: 11.94 on 1 and 5148 DF,  p-value: 0.0005551\n"
      ]
     },
     "metadata": {},
     "output_type": "display_data"
    }
   ],
   "source": [
    "model1 <- lm(wage ~ exp2, data = data)\n",
    "summary(model1)\n"
   ]
  },
  {
   "cell_type": "code",
   "execution_count": 4,
   "metadata": {
    "vscode": {
     "languageId": "r"
    }
   },
   "outputs": [
    {
     "name": "stdout",
     "output_type": "stream",
     "text": [
      "The coefficient on experience (exp2) is 0.25 , which indicates that for every additional year of experience, the wage is predicted to increase by approximately 0.25 units, holding all other factors constant.\n",
      "The intercept is 22.65 , which means that the expected wage for someone with zero years of experience is 22.65 units.\n"
     ]
    }
   ],
   "source": [
    "# Extract the coefficients from the model\n",
    "coef_model1 <- summary(model1)$coefficients\n",
    "\n",
    "# Extract the specific coefficient\n",
    "beta_1 <- coef_model1[\"exp2\", \"Estimate\"]\n",
    "beta_0 <- coef_model1[\"(Intercept)\", \"Estimate\"]\n",
    "\n",
    "cat(\"The coefficient on experience (exp2) is\", round(beta_1, 2),\n",
    "      \", which indicates that for every additional year of experience, the wage is predicted to increase by approximately\",\n",
    "      round(beta_1, 2), \"units, holding all other factors constant.\\n\")\n",
    "\n",
    "cat(\"The intercept is\", round(beta_0, 2),\n",
    "      \", which means that the expected wage for someone with zero years of experience is\",\n",
    "      round(beta_0, 2), \"units.\\n\")"
   ]
  },
  {
   "cell_type": "markdown",
   "metadata": {},
   "source": [
    "### Case 2: Continuous Y and binary/dummy X with intercept"
   ]
  },
  {
   "cell_type": "markdown",
   "metadata": {},
   "source": [
    "We may also want to understand how **gender** (represented by the dummy variable `sex`, where 1 indicates female and 0 indicates male) affects **wage**. The dependent variable **wage** is continuous, while **gender** is categorical (binary).\n",
    "\n",
    "#### Regression Model:\n",
    "\n",
    "$$\n",
    "\\text{wage} = \\beta_0 + \\beta_1 \\cdot \\text{gender} + \\epsilon\n",
    "$$\n",
    "\n",
    "- $ \\beta_0 $: The **intercept**, representing the expected wage for the reference category (in this case, females when `sex = 0`).\n",
    "- $ \\beta_1 $: The coefficient for the **gender** dummy variable, which tells us how much the expected wage changes for females relative to males.\n",
    "\n",
    "#### Interpretation:\n",
    "Here, the coefficient $ \\beta_1 $ on the **gender** dummy variable is interpreted as the **difference in means** between the two groups. Specifically:\n",
    "- If $ \\beta_1 > 0 $, it indicates that females (when `sex = 1`) earn more on average than males (the reference group, `sex = 0`), by the amount of the coefficient.\n",
    "- If $ \\beta_1 < 0 $, it suggests that females earn less on average than males, again by the value of the coefficient.\n",
    "\n",
    "This model is useful when we want to compare the means of two groups, with the intercept giving us the mean wage for the reference group and the coefficient indicating how the second group's mean differs.\n",
    "\n",
    "Let's estimate this model and interpret the regression output."
   ]
  },
  {
   "cell_type": "code",
   "execution_count": 33,
   "metadata": {
    "vscode": {
     "languageId": "r"
    }
   },
   "outputs": [
    {
     "data": {
      "text/plain": [
       "\n",
       "Call:\n",
       "lm(formula = wage ~ sex, data = data)\n",
       "\n",
       "Residuals:\n",
       "   Min     1Q Median     3Q    Max \n",
       "-21.00 -10.08  -4.38   4.51 504.83 \n",
       "\n",
       "Coefficients:\n",
       "            Estimate Std. Error t value Pr(>|t|)    \n",
       "(Intercept)  24.0193     0.3925  61.196   <2e-16 ***\n",
       "sex1         -1.3698     0.5887  -2.327     0.02 *  \n",
       "---\n",
       "Signif. codes:  0 '***' 0.001 '**' 0.01 '*' 0.05 '.' 0.1 ' ' 1\n",
       "\n",
       "Residual standard error: 20.99 on 5148 degrees of freedom\n",
       "Multiple R-squared:  0.001051,\tAdjusted R-squared:  0.0008565 \n",
       "F-statistic: 5.414 on 1 and 5148 DF,  p-value: 0.02002\n"
      ]
     },
     "metadata": {},
     "output_type": "display_data"
    }
   ],
   "source": [
    "data$sex <- as.factor(data$sex)\n",
    "model2 <- lm(wage ~ sex, data = data)\n",
    "summary(model2)"
   ]
  },
  {
   "cell_type": "code",
   "execution_count": 35,
   "metadata": {
    "vscode": {
     "languageId": "r"
    }
   },
   "outputs": [
    {
     "name": "stdout",
     "output_type": "stream",
     "text": [
      "The coefficient on the gender dummy variable (sex) is -1.37 , which indicates that females (sex = 1) are predicted to earn approximately -1.37 units less than males (the reference group, sex = 0).\n",
      "The intercept is 24.02 , which means that the expected wage for males (sex = 0) is 24.02 units.\n"
     ]
    }
   ],
   "source": [
    "# Extract the coefficients from the model\n",
    "coef_model2 <- summary(model2)$coefficients\n",
    "\n",
    "# Extract the specific coefficient\n",
    "beta_1_m2 <- coef_model2[\"sex1\", \"Estimate\"]\n",
    "beta_0_m2 <- coef_model2[\"(Intercept)\", \"Estimate\"]\n",
    "\n",
    "cat(\"The coefficient on the gender dummy variable (sex) is\", round(beta_1_m2, 2), \n",
    "    \", which indicates that females (sex = 1) are predicted to earn approximately\", \n",
    "    round(beta_1_m2, 2), \"units less than males (the reference group, sex = 0).\\n\")\n",
    "\n",
    "cat(\"The intercept is\", round(beta_0_m2, 2), \n",
    "    \", which means that the expected wage for males (sex = 0) is\", \n",
    "    round(beta_0_m2, 2), \"units.\\n\")\n"
   ]
  },
  {
   "cell_type": "markdown",
   "metadata": {},
   "source": [
    "### Case 3: Continuous Y and binary/dummy X without intercept"
   ]
  },
  {
   "cell_type": "markdown",
   "metadata": {},
   "source": [
    "In this case, we again want to explore the relationship between **gender** (`sex`) and **wage**, but now we will estimate the model **without an intercept**. This changes how we interpret the coefficients and allows us to directly estimate the average wage for both males and females.\n",
    "\n",
    "#### Regression Model:\n",
    "\n",
    "$$\n",
    "\\text{wage} = \\alpha_0 \\cdot \\text{gender} + \\epsilon\n",
    "$$\n",
    "\n",
    "However, because gender is a dummy/factor variable, R reports:\n",
    "$$\n",
    "\\text{wage} = \\beta_1 \\cdot \\text{gender}_{\\text{male}} + \\beta_2 \\cdot \\text{gender}_{\\text{female}} + \\epsilon\n",
    "$$\n",
    "\n",
    "- $ \\beta_1 $: The expected wage for males (when `sex = 1`).\n",
    "- $ \\beta_2 $: The expected wage for females (when `sex = 0`).\n",
    "\n",
    "#### Interpretation:\n",
    "Without an intercept, this regression model directly estimates the **average wage** for both males and females as separate coefficients:\n",
    "- $ \\beta_1 $ represents the average wage for males.\n",
    "- $ \\beta_2 $ represents the average wage for females.\n",
    "\n",
    "This setup is useful when we want to obtain a **group-specific average** for each category of the dummy variable, rather than interpreting the difference between a reference group and the other category. Each coefficient gives us the mean wage for that group without assuming any common baseline (as we did in previous models).\n",
    "\n",
    "Let's estimate this model and interpret the regression output."
   ]
  },
  {
   "cell_type": "code",
   "execution_count": 36,
   "metadata": {
    "vscode": {
     "languageId": "r"
    }
   },
   "outputs": [
    {
     "data": {
      "text/plain": [
       "\n",
       "Call:\n",
       "lm(formula = wage ~ sex - 1, data = data)\n",
       "\n",
       "Residuals:\n",
       "   Min     1Q Median     3Q    Max \n",
       "-21.00 -10.08  -4.38   4.51 504.83 \n",
       "\n",
       "Coefficients:\n",
       "     Estimate Std. Error t value Pr(>|t|)    \n",
       "sex0  24.0193     0.3925   61.20   <2e-16 ***\n",
       "sex1  22.6494     0.4388   51.62   <2e-16 ***\n",
       "---\n",
       "Signif. codes:  0 '***' 0.001 '**' 0.01 '*' 0.05 '.' 0.1 ' ' 1\n",
       "\n",
       "Residual standard error: 20.99 on 5148 degrees of freedom\n",
       "Multiple R-squared:  0.5546,\tAdjusted R-squared:  0.5544 \n",
       "F-statistic:  3205 on 2 and 5148 DF,  p-value: < 2.2e-16\n"
      ]
     },
     "metadata": {},
     "output_type": "display_data"
    }
   ],
   "source": [
    "model3 <- lm(wage ~ sex - 1, data = data) # Removing the intercept\n",
    "summary(model3)"
   ]
  },
  {
   "cell_type": "code",
   "execution_count": null,
   "metadata": {
    "vscode": {
     "languageId": "r"
    }
   },
   "outputs": [
    {
     "name": "stdout",
     "output_type": "stream",
     "text": [
      "The coefficient for females (sex = 1) is 22.65 , which indicates that the expected wage for female is 22.65 units.\n",
      "The coefficient for males (sex = 0) is 24.02 , which indicates that the expected wage for males is 24.02 units.\n"
     ]
    }
   ],
   "source": [
    "# Extract the coefficients from the model (no intercept)\n",
    "coef_model3 <- summary(model3)$coefficients\n",
    "\n",
    "# Extract the specific coefficients\n",
    "beta_female_m3 <- coef_model3[\"sex1\", \"Estimate\"]\n",
    "beta_male_m3 <- coef_model3[\"sex0\", \"Estimate\"]\n",
    "\n",
    "cat(\"The coefficient for females (sex = 1) is\", round(beta_female_m3, 2), \n",
    "    \", which indicates that the expected wage for female is\", round(beta_female_m3, 2), \"units.\\n\")\n",
    "\n",
    "cat(\"The coefficient for males (sex = 0) is\", round(beta_male_m3, 2), \n",
    "    \", which indicates that the expected wage for males is\", round(beta_male_m3, 2), \"units.\\n\")"
   ]
  },
  {
   "cell_type": "markdown",
   "metadata": {},
   "source": [
    "### Case 4: Binary/dummy Y and Continuous X with intercept"
   ]
  },
  {
   "cell_type": "markdown",
   "metadata": {},
   "source": [
    "In a standard linear regression model with intercept, the relationship between the dependent variable $ Y $ and the independent variables $ X $ is expressed as:\n",
    "\n",
    "$$\n",
    "Y = \\beta_0 + \\beta_1 X + \\epsilon\n",
    "$$\n",
    "\n",
    "Taking conditional expectations:\n",
    "\n",
    "$$\n",
    "E[Y | X] = \\beta_0 + \\beta_1 X\n",
    "$$\n",
    "\n",
    "The key insight here is that the expected value of a binary variable, taking values of 1 and 0, represents the probability that the variable takes the value 1. This can be mathematically expressed as:\n",
    "\n",
    "$$\n",
    "\\begin{align*}\n",
    "E[Y | X] &= 1 \\cdot P(Y = 1 | X) + 0 \\cdot P(Y = 0 | X) \\\\\n",
    "&= P(Y = 1 | X)\n",
    "\\end{align*}\n",
    "$$\n",
    "\n",
    "Thus, the predicted values from a regression with a binary outcome variable can be interpreted as the **probability** that the outcome equals 1, given the independent variables.\n",
    "\n",
    "$$\n",
    "P(Y = 1 | X) = \\beta_0 + \\beta_1 X\n",
    "$$\n",
    "\n",
    "Since $ Y $ is binary, $ E[Y | X] $ represents the probability that $ Y = 1 $. Therefore, the regression coefficients $ \\beta_0 $ and $ \\beta_1 $ tell us how the **probability** of $ Y = 1 $ changes with $ X $. Specifically, $ \\beta_1 $ represents the **change in the probability** of $ Y = 1 $ for a one-unit change in $ X $.\n",
    "\n",
    "We may want to, for example, evaluate the relationship between the binary variable `high_wage`, which equals 1 if the individual earns a higher wage than the mean wage and 0 otherwise, and the variable `exp2`. \n",
    "\n",
    "#### Regression Model:\n",
    "\n",
    "$$\n",
    "\\text{high\\_wage} = \\beta_0 + \\beta_1 \\cdot \\text{experience} + \\epsilon\n",
    "$$\n",
    "\n",
    "- $ \\beta_0 $: The **intercept**, representing the predicted probability of earning a high wage when experience is 0.\n",
    "- $ \\beta_1 $: The coefficient on experience, which tells us how the **probability** of earning a high wage changes with an additional year of experience.\n",
    "\n",
    "#### Interpretation:\n",
    "In this model, the coefficient $ \\beta_1 $ is interpreted as the **change in probability** of earning a high wage for a one-unit increase in experience. For example, if $ \\beta_1 = 0.05 $, it means that for each additional year of experience, the probability of earning a high wage increases by 5 percentage points.\n",
    "\n",
    "Let's now estimate this model and interpret the output."
   ]
  },
  {
   "cell_type": "code",
   "execution_count": 31,
   "metadata": {
    "vscode": {
     "languageId": "r"
    }
   },
   "outputs": [
    {
     "data": {
      "text/plain": [
       "\n",
       "Call:\n",
       "lm(formula = high_wage ~ exp2, data = data)\n",
       "\n",
       "Residuals:\n",
       "    Min      1Q  Median      3Q     Max \n",
       "-0.4992 -0.3557 -0.3456  0.6308  0.6562 \n",
       "\n",
       "Coefficients:\n",
       "            Estimate Std. Error t value Pr(>|t|)    \n",
       "(Intercept) 0.343814   0.008392  40.970  < 2e-16 ***\n",
       "exp2        0.007034   0.001674   4.201 2.71e-05 ***\n",
       "---\n",
       "Signif. codes:  0 '***' 0.001 '**' 0.01 '*' 0.05 '.' 0.1 ' ' 1\n",
       "\n",
       "Residual standard error: 0.4807 on 5148 degrees of freedom\n",
       "Multiple R-squared:  0.003416,\tAdjusted R-squared:  0.003222 \n",
       "F-statistic: 17.65 on 1 and 5148 DF,  p-value: 2.705e-05\n"
      ]
     },
     "metadata": {},
     "output_type": "display_data"
    }
   ],
   "source": [
    "model4_lpm <- lm(high_wage ~ exp2, data = data)\n",
    "summary(model4_lpm)"
   ]
  },
  {
   "cell_type": "code",
   "execution_count": 32,
   "metadata": {
    "vscode": {
     "languageId": "r"
    }
   },
   "outputs": [
    {
     "name": "stdout",
     "output_type": "stream",
     "text": [
      "The intercept is 0.34 , which indicates that the predicted probability of earning a high wage for someone with 0 years of experience is 0.34 .\n",
      "The coefficient on experience is 0.007 , which indicates that for each additional year of experience, the probability of earning a high wage is predicted to increase 0.7 percentage points.\n"
     ]
    }
   ],
   "source": [
    "# Extract the coefficients from the linear probability model (LPM)\n",
    "coef_model4_lpm <- summary(model4_lpm)$coefficients\n",
    "\n",
    "# Extract the specific coefficients for intercept and experience\n",
    "beta_0_m4 <- coef_model4_lpm[\"(Intercept)\", \"Estimate\"]\n",
    "beta_1_m4 <- coef_model4_lpm[\"exp2\", \"Estimate\"]\n",
    "\n",
    "cat(\"The intercept is\", round(beta_0_m4, 2), \n",
    "    \", which indicates that the predicted probability of earning a high wage for someone with 0 years of experience is\", \n",
    "    round(beta_0_m4, 2), \".\\n\")\n",
    "\n",
    "cat(\"The coefficient on experience is\", round(beta_1_m4, 4), \n",
    "    \", which indicates that for each additional year of experience, the probability of earning a high wage is predicted to increase\", \n",
    "    round(beta_1_m4 * 100, 2), \"percentage points.\\n\")"
   ]
  },
  {
   "cell_type": "markdown",
   "metadata": {},
   "source": [
    "#### Limitations:\n",
    "While the Linear Probability Model (LPM) provides an easy-to-interpret estimate of the relationship between independent variables and the probability of an outcome, it has certain limitations. Most notably, the predicted probabilities can sometimes fall outside the range [0, 1], which is not meaningful for probabilities.\n",
    "\n",
    "It's important to emphasize that the **average marginal effect** of $ \\beta_1 $, which represents the expected change in the probability of $ Y = 1 $ for a one-unit increase in $ X $, is valid and informative. In other words, the statement that \"an increase in $ X $ by 1 predicts an average increase in the probability of $ Y = 1 $ by $ \\beta_1 $\" is correct.\n",
    "\n",
    "However, the limitation arises when applying this **average marginal effect** to individual predictions for specific values of $ X $. In some cases, the LPM can produce predicted probabilities outside the valid range of [0, 1]. For example, when a new value of $ X $ is input into the model, the linear nature of the LPM may result in probabilities greater than 1 or less than 0, which are not meaningful in a probabilistic context.\n",
    "\n",
    "Despite this, the LPM remains useful for providing a rough estimate of the marginal effects of the independent variables on the outcome, especially when the primary interest lies in understanding average effects rather than precise individual predictions.\n"
   ]
  },
  {
   "cell_type": "markdown",
   "metadata": {},
   "source": [
    "### Case 5: Binary/dummy Y and Binary/dummy X with intercept"
   ]
  },
  {
   "cell_type": "markdown",
   "metadata": {},
   "source": [
    "In this case, we want to examine the relationship between having at least a **college degree** (our binary independent variable `college_or_above`, where 1 indicates having a college or advanced degree and 0 indicates not) and the likelihood of earning a **high wage** (our binary dependent variable `high_wage`, where 1 represents being in the top 10% of wage earners, and 0 otherwise).\n",
    "\n",
    "Since both the dependent and independent variables are binary, the interpretation of the coefficients reflects the difference in **probabilities** between the two groups (those with a college degree and those without).\n",
    "\n",
    "#### Regression Model:\n",
    "\n",
    "$$\n",
    "\\text{high\\_wage} = \\beta_0 + \\beta_1 \\cdot \\text{college\\_or\\_above} + \\epsilon\n",
    "$$\n",
    "\n",
    "- $ \\beta_0 $: The **intercept**, representing the predicted probability of earning a high wage for individuals who do **not** have a college degree (i.e., when `college_or_above = 0`).\n",
    "- $ \\beta_1 $: The coefficient on `college_or_above`, representing the **difference in probability** of earning a high wage between those who have a college degree (or higher) and those who do not.\n",
    "\n",
    "#### Interpretation:\n",
    "In this model, the coefficient $ \\beta_1 $ is interpreted as the **difference in the probability** of earning a high wage for individuals with a college degree compared to those without one. Specifically:\n",
    "- If $ \\beta_1 > 0 $, it indicates that having a college degree increases the likelihood of earning a high wage compared to those without a degree.\n",
    "- If $ \\beta_1 < 0 $, it suggests that having a college degree decreases the likelihood of earning a high wage compared to those without a degree.\n",
    "\n",
    "#### Example:\n",
    "If $ \\beta_1 = 0.15 $, this means that on average individuals with a college degree are 15 percentage points more likely to earn a high wage compared to those without a degree. The intercept $ \\beta_0 $ represents the baseline probability for individuals without a college degree.\n",
    "\n",
    "#### Limitations:\n",
    "As with other Linear Probability Models, this specification may predict probabilities outside the [0, 1] range, which is not meaningful in a probabilistic context. However, it provides a useful approximation of the average marginal effects of education on wage outcomes.\n",
    "\n",
    "Let's now estimate the model and interpret the results."
   ]
  },
  {
   "cell_type": "code",
   "execution_count": 36,
   "metadata": {
    "vscode": {
     "languageId": "r"
    }
   },
   "outputs": [
    {
     "data": {
      "text/plain": [
       "\n",
       "Call:\n",
       "lm(formula = high_wage ~ college_or_above, data = data)\n",
       "\n",
       "Residuals:\n",
       "    Min      1Q  Median      3Q     Max \n",
       "-0.5282 -0.2290 -0.2290  0.4718  0.7710 \n",
       "\n",
       "Coefficients:\n",
       "                 Estimate Std. Error t value Pr(>|t|)    \n",
       "(Intercept)      0.228989   0.008641   26.50   <2e-16 ***\n",
       "college_or_above 0.299192   0.012814   23.35   <2e-16 ***\n",
       "---\n",
       "Signif. codes:  0 '***' 0.001 '**' 0.01 '*' 0.05 '.' 0.1 ' ' 1\n",
       "\n",
       "Residual standard error: 0.4579 on 5148 degrees of freedom\n",
       "Multiple R-squared:  0.09576,\tAdjusted R-squared:  0.09558 \n",
       "F-statistic: 545.2 on 1 and 5148 DF,  p-value: < 2.2e-16\n"
      ]
     },
     "metadata": {},
     "output_type": "display_data"
    }
   ],
   "source": [
    "model5_lpm <- lm(high_wage ~ college_or_above, data = data)\n",
    "summary(model5_lpm)\n"
   ]
  },
  {
   "cell_type": "code",
   "execution_count": 37,
   "metadata": {
    "vscode": {
     "languageId": "r"
    }
   },
   "outputs": [
    {
     "name": "stdout",
     "output_type": "stream",
     "text": [
      "The intercept is 0.23 , which indicates that the predicted probability of earning a high wage for someone without a college degree is 22.9 percentage points.\n",
      "The coefficient on college_or_above is 0.2992 , which indicates that having a college degree (or higher) is predicted to increase the probability of earning a high wage by 29.92 percentage points compared to those without a college degree.\n"
     ]
    }
   ],
   "source": [
    "# Extract the coefficients from the linear probability model (LPM)\n",
    "coef_model5_lpm <- summary(model5_lpm)$coefficients\n",
    "\n",
    "# Extract the specific coefficients for intercept and college_or_above\n",
    "beta_0_m5 <- coef_model5_lpm[\"(Intercept)\", \"Estimate\"]\n",
    "beta_1_m5 <- coef_model5_lpm[\"college_or_above\", \"Estimate\"]\n",
    "\n",
    "cat(\"The intercept is\", round(beta_0_m5, 2), \n",
    "    \", which indicates that the predicted probability of earning a high wage for someone without a college degree is\", \n",
    "    round(beta_0_m5 * 100, 2), \"percentage points.\\n\")\n",
    "\n",
    "cat(\"The coefficient on college_or_above is\", round(beta_1_m5, 4), \n",
    "    \", which indicates that having a college degree (or higher) is predicted to increase the probability of earning a high wage by\", \n",
    "    round(beta_1_m5 * 100, 2), \"percentage points compared to those without a college degree.\\n\")\n"
   ]
  },
  {
   "cell_type": "markdown",
   "metadata": {},
   "source": [
    "### Case 6: Continuous Y and categorical X with intercept"
   ]
  },
  {
   "cell_type": "markdown",
   "metadata": {},
   "source": [
    "In this model, we aim to understand how different levels of education predict **wage**. The independent variable `education` is categorical, representing the highest level of education attained. The model compares the wages associated with each education level to the **reference category**, which is represented by the intercept. This reference category is the **baseline group** against which all other education levels are compared.\n",
    "\n",
    "#### Regression Model:\n",
    "\n",
    "$$\n",
    "\\text{wage} = \\beta_0 + \\beta_1 \\cdot \\text{education}_1 + \\beta_2 \\cdot \\text{education}_2 + \\dots + \\beta_n \\cdot \\text{education}_n + \\epsilon\n",
    "$$\n",
    "\n",
    "- $\\beta_0$ (Intercept): This represents the **average wage** for individuals in the **reference category** (the base level of education).\n",
    "- $\\beta_1, \\beta_2, \\dots, \\beta_n$: These coefficients represent the **difference in wage** between individuals at each level of education and those in the reference category.\n",
    "\n",
    "#### Interpretation:\n",
    "\n",
    "- The **intercept** ($\\beta_0$) represents the predicted average wage for individuals in the reference category. For example, if your reference group is individuals with **Some High School** education (`SHS`), the intercept will be the average wage for people who only have some high school education.\n",
    "  \n",
    "- The **coefficients** for other education levels (e.g., `HSG`, `SCL`, `CLG`, `AD`) represent the difference in expected wages compared to the reference group. These coefficients show how much more or less individuals with those levels of education are predicted to earn, relative to the reference group.\n",
    "\n",
    "Let's now estimate the model and review the regression output to interpret the results.\n"
   ]
  },
  {
   "cell_type": "code",
   "execution_count": 53,
   "metadata": {
    "vscode": {
     "languageId": "r"
    }
   },
   "outputs": [
    {
     "data": {
      "text/plain": [
       "\n",
       "NONE  SHS  HSG  SCL  CLG   AD \n",
       "   0  120 1256 1432 1636  706 "
      ]
     },
     "metadata": {},
     "output_type": "display_data"
    }
   ],
   "source": [
    "table(data$education)"
   ]
  },
  {
   "cell_type": "code",
   "execution_count": 51,
   "metadata": {
    "vscode": {
     "languageId": "r"
    }
   },
   "outputs": [
    {
     "data": {
      "text/plain": [
       "\n",
       "Call:\n",
       "lm(formula = wage ~ education, data = data)\n",
       "\n",
       "Residuals:\n",
       "   Min     1Q Median     3Q    Max \n",
       "-30.09  -8.75  -3.58   3.84 505.51 \n",
       "\n",
       "Coefficients:\n",
       "             Estimate Std. Error t value Pr(>|t|)    \n",
       "(Intercept)    23.335      1.857  12.566  < 2e-16 ***\n",
       "educationHSG   -6.005      1.944  -3.089  0.00202 ** \n",
       "educationSCL   -2.928      1.933  -1.515  0.12995    \n",
       "educationCLG    3.167      1.924   1.646  0.09985 .  \n",
       "educationAD     9.830      2.009   4.894 1.02e-06 ***\n",
       "---\n",
       "Signif. codes:  0 '***' 0.001 '**' 0.01 '*' 0.05 '.' 0.1 ' ' 1\n",
       "\n",
       "Residual standard error: 20.34 on 5145 degrees of freedom\n",
       "Multiple R-squared:  0.06259,\tAdjusted R-squared:  0.06186 \n",
       "F-statistic: 85.88 on 4 and 5145 DF,  p-value: < 2.2e-16\n"
      ]
     },
     "metadata": {},
     "output_type": "display_data"
    }
   ],
   "source": [
    "model6 <- lm(wage ~ education, data = data)\n",
    "\n",
    "# Display the summary of the model\n",
    "summary(model6)"
   ]
  }
 ],
 "metadata": {
  "kernelspec": {
   "display_name": "R",
   "language": "R",
   "name": "ir"
  },
  "language_info": {
   "codemirror_mode": "r",
   "file_extension": ".r",
   "mimetype": "text/x-r-source",
   "name": "R",
   "pygments_lexer": "r",
   "version": "4.3.3"
  }
 },
 "nbformat": 4,
 "nbformat_minor": 2
}
