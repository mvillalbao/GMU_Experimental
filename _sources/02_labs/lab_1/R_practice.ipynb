{
 "cells": [
  {
   "cell_type": "markdown",
   "metadata": {},
   "source": [
    "# Basic R Practice"
   ]
  },
  {
   "cell_type": "markdown",
   "metadata": {},
   "source": [
    "## Importing Data on R"
   ]
  },
  {
   "cell_type": "markdown",
   "metadata": {},
   "source": [
    "### CSV Files"
   ]
  },
  {
   "cell_type": "code",
   "execution_count": 1,
   "metadata": {
    "vscode": {
     "languageId": "r"
    }
   },
   "outputs": [
    {
     "data": {
      "text/html": [
       "<table class=\"dataframe\">\n",
       "<caption>A data.frame: 6 × 10</caption>\n",
       "<thead>\n",
       "\t<tr><th></th><th scope=col>product_A</th><th scope=col>product_B</th><th scope=col>price</th><th scope=col>growth_rate</th><th scope=col>customer_name</th><th scope=col>region</th><th scope=col>sales_target</th><th scope=col>order_date</th><th scope=col>employee_id</th><th scope=col>feedback</th></tr>\n",
       "\t<tr><th></th><th scope=col>&lt;chr&gt;</th><th scope=col>&lt;dbl&gt;</th><th scope=col>&lt;chr&gt;</th><th scope=col>&lt;chr&gt;</th><th scope=col>&lt;chr&gt;</th><th scope=col>&lt;chr&gt;</th><th scope=col>&lt;chr&gt;</th><th scope=col>&lt;chr&gt;</th><th scope=col>&lt;chr&gt;</th><th scope=col>&lt;chr&gt;</th></tr>\n",
       "</thead>\n",
       "<tbody>\n",
       "\t<tr><th scope=row>1</th><td>unknown</td><td>9999</td><td>2,500</td><td>50%</td><td>dave   </td><td>west       </td><td>5000       </td><td>2021-06-15</td><td>ID_19</td><td>poor     </td></tr>\n",
       "\t<tr><th scope=row>2</th><td>nan    </td><td>  50</td><td>3,500</td><td>50%</td><td> Eve   </td><td>North      </td><td>unavailable</td><td>2022-03-22</td><td>ID_15</td><td>poor     </td></tr>\n",
       "\t<tr><th scope=row>3</th><td>300    </td><td>9999</td><td>1,000</td><td>10%</td><td> Alice </td><td>East       </td><td>30000      </td><td>2021-01-10</td><td>ID_16</td><td>nan      </td></tr>\n",
       "\t<tr><th scope=row>4</th><td>nan    </td><td> 150</td><td>1,000</td><td>nan</td><td>bob    </td><td>North      </td><td>20000      </td><td>2021-01-10</td><td>ID_11</td><td>average  </td></tr>\n",
       "\t<tr><th scope=row>5</th><td>nan    </td><td>  50</td><td>4,000</td><td>50%</td><td>bob    </td><td>East       </td><td>5000       </td><td>2021-06-15</td><td>ID_16</td><td>excellent</td></tr>\n",
       "\t<tr><th scope=row>6</th><td>200    </td><td>  NA</td><td>3,500</td><td>30%</td><td> Alice </td><td>south south</td><td>20000      </td><td>2021-01-10</td><td>ID_8 </td><td>average  </td></tr>\n",
       "</tbody>\n",
       "</table>\n"
      ],
      "text/latex": [
       "A data.frame: 6 × 10\n",
       "\\begin{tabular}{r|llllllllll}\n",
       "  & product\\_A & product\\_B & price & growth\\_rate & customer\\_name & region & sales\\_target & order\\_date & employee\\_id & feedback\\\\\n",
       "  & <chr> & <dbl> & <chr> & <chr> & <chr> & <chr> & <chr> & <chr> & <chr> & <chr>\\\\\n",
       "\\hline\n",
       "\t1 & unknown & 9999 & 2,500 & 50\\% & dave    & west        & 5000        & 2021-06-15 & ID\\_19 & poor     \\\\\n",
       "\t2 & nan     &   50 & 3,500 & 50\\% &  Eve    & North       & unavailable & 2022-03-22 & ID\\_15 & poor     \\\\\n",
       "\t3 & 300     & 9999 & 1,000 & 10\\% &  Alice  & East        & 30000       & 2021-01-10 & ID\\_16 & nan      \\\\\n",
       "\t4 & nan     &  150 & 1,000 & nan & bob     & North       & 20000       & 2021-01-10 & ID\\_11 & average  \\\\\n",
       "\t5 & nan     &   50 & 4,000 & 50\\% & bob     & East        & 5000        & 2021-06-15 & ID\\_16 & excellent\\\\\n",
       "\t6 & 200     &   NA & 3,500 & 30\\% &  Alice  & south south & 20000       & 2021-01-10 & ID\\_8  & average  \\\\\n",
       "\\end{tabular}\n"
      ],
      "text/markdown": [
       "\n",
       "A data.frame: 6 × 10\n",
       "\n",
       "| <!--/--> | product_A &lt;chr&gt; | product_B &lt;dbl&gt; | price &lt;chr&gt; | growth_rate &lt;chr&gt; | customer_name &lt;chr&gt; | region &lt;chr&gt; | sales_target &lt;chr&gt; | order_date &lt;chr&gt; | employee_id &lt;chr&gt; | feedback &lt;chr&gt; |\n",
       "|---|---|---|---|---|---|---|---|---|---|---|\n",
       "| 1 | unknown | 9999 | 2,500 | 50% | dave    | west        | 5000        | 2021-06-15 | ID_19 | poor      |\n",
       "| 2 | nan     |   50 | 3,500 | 50% |  Eve    | North       | unavailable | 2022-03-22 | ID_15 | poor      |\n",
       "| 3 | 300     | 9999 | 1,000 | 10% |  Alice  | East        | 30000       | 2021-01-10 | ID_16 | nan       |\n",
       "| 4 | nan     |  150 | 1,000 | nan | bob     | North       | 20000       | 2021-01-10 | ID_11 | average   |\n",
       "| 5 | nan     |   50 | 4,000 | 50% | bob     | East        | 5000        | 2021-06-15 | ID_16 | excellent |\n",
       "| 6 | 200     |   NA | 3,500 | 30% |  Alice  | south south | 20000       | 2021-01-10 | ID_8  | average   |\n",
       "\n"
      ],
      "text/plain": [
       "  product_A product_B price growth_rate customer_name region      sales_target\n",
       "1 unknown   9999      2,500 50%         dave          west        5000        \n",
       "2 nan         50      3,500 50%          Eve          North       unavailable \n",
       "3 300       9999      1,000 10%          Alice        East        30000       \n",
       "4 nan        150      1,000 nan         bob           North       20000       \n",
       "5 nan         50      4,000 50%         bob           East        5000        \n",
       "6 200         NA      3,500 30%          Alice        south south 20000       \n",
       "  order_date employee_id feedback \n",
       "1 2021-06-15 ID_19       poor     \n",
       "2 2022-03-22 ID_15       poor     \n",
       "3 2021-01-10 ID_16       nan      \n",
       "4 2021-01-10 ID_11       average  \n",
       "5 2021-06-15 ID_16       excellent\n",
       "6 2021-01-10 ID_8        average  "
      ]
     },
     "metadata": {},
     "output_type": "display_data"
    }
   ],
   "source": [
    "csv_file <- url(\"https://raw.githubusercontent.com/mvillalbao/GMU_Experimental/refs/heads/main/01_data/raw_dataset.csv\") # replace with path/to/csv_file.csv\n",
    "data_csv <- read.csv(csv_file)\n",
    "\n",
    "head(data_csv)"
   ]
  },
  {
   "cell_type": "markdown",
   "metadata": {},
   "source": [
    "### Excel Files"
   ]
  },
  {
   "cell_type": "code",
   "execution_count": 2,
   "metadata": {
    "vscode": {
     "languageId": "r"
    }
   },
   "outputs": [
    {
     "data": {
      "text/html": [
       "<table class=\"dataframe\">\n",
       "<caption>A data.frame: 6 × 10</caption>\n",
       "<thead>\n",
       "\t<tr><th></th><th scope=col>product_A</th><th scope=col>product_B</th><th scope=col>price</th><th scope=col>growth_rate</th><th scope=col>customer_name</th><th scope=col>region</th><th scope=col>sales_target</th><th scope=col>order_date</th><th scope=col>employee_id</th><th scope=col>feedback</th></tr>\n",
       "\t<tr><th></th><th scope=col>&lt;chr&gt;</th><th scope=col>&lt;dbl&gt;</th><th scope=col>&lt;chr&gt;</th><th scope=col>&lt;chr&gt;</th><th scope=col>&lt;chr&gt;</th><th scope=col>&lt;chr&gt;</th><th scope=col>&lt;chr&gt;</th><th scope=col>&lt;chr&gt;</th><th scope=col>&lt;chr&gt;</th><th scope=col>&lt;chr&gt;</th></tr>\n",
       "</thead>\n",
       "<tbody>\n",
       "\t<tr><th scope=row>1</th><td>unknown</td><td>9999</td><td>2,500</td><td>50%</td><td>dave                        </td><td>west       </td><td>5000       </td><td>2021-06-15</td><td>ID_19</td><td>poor     </td></tr>\n",
       "\t<tr><th scope=row>2</th><td><span style=white-space:pre-wrap>nan    </span></td><td><span style=white-space:pre-wrap>  50</span></td><td>3,500</td><td>50%</td><td><span style=white-space:pre-wrap>xml:space=\"preserve\"&gt; Eve   </span></td><td><span style=white-space:pre-wrap>North      </span></td><td>unavailable</td><td>2022-03-22</td><td>ID_15</td><td><span style=white-space:pre-wrap>poor     </span></td></tr>\n",
       "\t<tr><th scope=row>3</th><td><span style=white-space:pre-wrap>300    </span></td><td>9999</td><td>1,000</td><td>10%</td><td>xml:space=\"preserve\"&gt; Alice </td><td><span style=white-space:pre-wrap>East       </span></td><td><span style=white-space:pre-wrap>30000      </span></td><td>2021-01-10</td><td>ID_16</td><td><span style=white-space:pre-wrap>nan      </span></td></tr>\n",
       "\t<tr><th scope=row>4</th><td>nan    </td><td> 150</td><td>1,000</td><td>nan</td><td>bob                         </td><td>North      </td><td>20000      </td><td>2021-01-10</td><td>ID_11</td><td>average  </td></tr>\n",
       "\t<tr><th scope=row>5</th><td>nan    </td><td>  50</td><td>4,000</td><td>50%</td><td>bob                         </td><td>East       </td><td>5000       </td><td>2021-06-15</td><td>ID_16</td><td>excellent</td></tr>\n",
       "\t<tr><th scope=row>6</th><td><span style=white-space:pre-wrap>200    </span></td><td><span style=white-space:pre-wrap>  NA</span></td><td>3,500</td><td>30%</td><td>xml:space=\"preserve\"&gt; Alice </td><td>south south</td><td><span style=white-space:pre-wrap>20000      </span></td><td>2021-01-10</td><td>ID_8 </td><td><span style=white-space:pre-wrap>average  </span></td></tr>\n",
       "</tbody>\n",
       "</table>\n"
      ],
      "text/latex": [
       "A data.frame: 6 × 10\n",
       "\\begin{tabular}{r|llllllllll}\n",
       "  & product\\_A & product\\_B & price & growth\\_rate & customer\\_name & region & sales\\_target & order\\_date & employee\\_id & feedback\\\\\n",
       "  & <chr> & <dbl> & <chr> & <chr> & <chr> & <chr> & <chr> & <chr> & <chr> & <chr>\\\\\n",
       "\\hline\n",
       "\t1 & unknown & 9999 & 2,500 & 50\\% & dave                         & west        & 5000        & 2021-06-15 & ID\\_19 & poor     \\\\\n",
       "\t2 & nan     &   50 & 3,500 & 50\\% & xml:space=\"preserve\"> Eve    & North       & unavailable & 2022-03-22 & ID\\_15 & poor     \\\\\n",
       "\t3 & 300     & 9999 & 1,000 & 10\\% & xml:space=\"preserve\"> Alice  & East        & 30000       & 2021-01-10 & ID\\_16 & nan      \\\\\n",
       "\t4 & nan     &  150 & 1,000 & nan & bob                          & North       & 20000       & 2021-01-10 & ID\\_11 & average  \\\\\n",
       "\t5 & nan     &   50 & 4,000 & 50\\% & bob                          & East        & 5000        & 2021-06-15 & ID\\_16 & excellent\\\\\n",
       "\t6 & 200     &   NA & 3,500 & 30\\% & xml:space=\"preserve\"> Alice  & south south & 20000       & 2021-01-10 & ID\\_8  & average  \\\\\n",
       "\\end{tabular}\n"
      ],
      "text/markdown": [
       "\n",
       "A data.frame: 6 × 10\n",
       "\n",
       "| <!--/--> | product_A &lt;chr&gt; | product_B &lt;dbl&gt; | price &lt;chr&gt; | growth_rate &lt;chr&gt; | customer_name &lt;chr&gt; | region &lt;chr&gt; | sales_target &lt;chr&gt; | order_date &lt;chr&gt; | employee_id &lt;chr&gt; | feedback &lt;chr&gt; |\n",
       "|---|---|---|---|---|---|---|---|---|---|---|\n",
       "| 1 | unknown | 9999 | 2,500 | 50% | dave                         | west        | 5000        | 2021-06-15 | ID_19 | poor      |\n",
       "| 2 | nan     |   50 | 3,500 | 50% | xml:space=\"preserve\"&gt; Eve    | North       | unavailable | 2022-03-22 | ID_15 | poor      |\n",
       "| 3 | 300     | 9999 | 1,000 | 10% | xml:space=\"preserve\"&gt; Alice  | East        | 30000       | 2021-01-10 | ID_16 | nan       |\n",
       "| 4 | nan     |  150 | 1,000 | nan | bob                          | North       | 20000       | 2021-01-10 | ID_11 | average   |\n",
       "| 5 | nan     |   50 | 4,000 | 50% | bob                          | East        | 5000        | 2021-06-15 | ID_16 | excellent |\n",
       "| 6 | 200     |   NA | 3,500 | 30% | xml:space=\"preserve\"&gt; Alice  | south south | 20000       | 2021-01-10 | ID_8  | average   |\n",
       "\n"
      ],
      "text/plain": [
       "  product_A product_B price growth_rate customer_name               \n",
       "1 unknown   9999      2,500 50%         dave                        \n",
       "2 nan         50      3,500 50%         xml:space=\"preserve\"> Eve   \n",
       "3 300       9999      1,000 10%         xml:space=\"preserve\"> Alice \n",
       "4 nan        150      1,000 nan         bob                         \n",
       "5 nan         50      4,000 50%         bob                         \n",
       "6 200         NA      3,500 30%         xml:space=\"preserve\"> Alice \n",
       "  region      sales_target order_date employee_id feedback \n",
       "1 west        5000         2021-06-15 ID_19       poor     \n",
       "2 North       unavailable  2022-03-22 ID_15       poor     \n",
       "3 East        30000        2021-01-10 ID_16       nan      \n",
       "4 North       20000        2021-01-10 ID_11       average  \n",
       "5 East        5000         2021-06-15 ID_16       excellent\n",
       "6 south south 20000        2021-01-10 ID_8        average  "
      ]
     },
     "metadata": {},
     "output_type": "display_data"
    }
   ],
   "source": [
    "xlsx_file <- \"https://raw.githubusercontent.com/mvillalbao/GMU_Experimental/refs/heads/main/01_data/raw_dataset.xlsx\" # replace with path/to/xlsx_file.xlsx\n",
    "\n",
    "library(openxlsx)\n",
    "data_xlsx <- read.xlsx(xlsx_file, sheet = \"Sheet1\")\n",
    "\n",
    "head(data_xlsx)"
   ]
  },
  {
   "cell_type": "markdown",
   "metadata": {},
   "source": [
    "### Stata Files"
   ]
  },
  {
   "cell_type": "code",
   "execution_count": 3,
   "metadata": {
    "vscode": {
     "languageId": "r"
    }
   },
   "outputs": [
    {
     "data": {
      "text/html": [
       "<table class=\"dataframe\">\n",
       "<caption>A tibble: 6 × 10</caption>\n",
       "<thead>\n",
       "\t<tr><th scope=col>product_a</th><th scope=col>product_b</th><th scope=col>price</th><th scope=col>growth_rate</th><th scope=col>customer_name</th><th scope=col>region</th><th scope=col>sales_target</th><th scope=col>order_date</th><th scope=col>employee_id</th><th scope=col>feedback</th></tr>\n",
       "\t<tr><th scope=col>&lt;chr&gt;</th><th scope=col>&lt;dbl&gt;</th><th scope=col>&lt;chr&gt;</th><th scope=col>&lt;chr&gt;</th><th scope=col>&lt;chr&gt;</th><th scope=col>&lt;chr&gt;</th><th scope=col>&lt;chr&gt;</th><th scope=col>&lt;chr&gt;</th><th scope=col>&lt;chr&gt;</th><th scope=col>&lt;chr&gt;</th></tr>\n",
       "</thead>\n",
       "<tbody>\n",
       "\t<tr><td>unknown</td><td>9999</td><td>2,500</td><td>50%</td><td>dave  </td><td>west       </td><td>5000       </td><td>2021-06-15</td><td>ID_19</td><td>poor     </td></tr>\n",
       "\t<tr><td>nan    </td><td>  50</td><td>3,500</td><td>50%</td><td> Eve  </td><td>North      </td><td>unavailable</td><td>2022-03-22</td><td>ID_15</td><td>poor     </td></tr>\n",
       "\t<tr><td>300    </td><td>9999</td><td>1,000</td><td>10%</td><td> Alice</td><td>East       </td><td>30000      </td><td>2021-01-10</td><td>ID_16</td><td>nan      </td></tr>\n",
       "\t<tr><td>nan    </td><td> 150</td><td>1,000</td><td>nan</td><td>bob   </td><td>North      </td><td>20000      </td><td>2021-01-10</td><td>ID_11</td><td>average  </td></tr>\n",
       "\t<tr><td>nan    </td><td>  50</td><td>4,000</td><td>50%</td><td>bob   </td><td>East       </td><td>5000       </td><td>2021-06-15</td><td>ID_16</td><td>excellent</td></tr>\n",
       "\t<tr><td>200    </td><td>  NA</td><td>3,500</td><td>30%</td><td> Alice</td><td>south south</td><td>20000      </td><td>2021-01-10</td><td>ID_8 </td><td>average  </td></tr>\n",
       "</tbody>\n",
       "</table>\n"
      ],
      "text/latex": [
       "A tibble: 6 × 10\n",
       "\\begin{tabular}{llllllllll}\n",
       " product\\_a & product\\_b & price & growth\\_rate & customer\\_name & region & sales\\_target & order\\_date & employee\\_id & feedback\\\\\n",
       " <chr> & <dbl> & <chr> & <chr> & <chr> & <chr> & <chr> & <chr> & <chr> & <chr>\\\\\n",
       "\\hline\n",
       "\t unknown & 9999 & 2,500 & 50\\% & dave   & west        & 5000        & 2021-06-15 & ID\\_19 & poor     \\\\\n",
       "\t nan     &   50 & 3,500 & 50\\% &  Eve   & North       & unavailable & 2022-03-22 & ID\\_15 & poor     \\\\\n",
       "\t 300     & 9999 & 1,000 & 10\\% &  Alice & East        & 30000       & 2021-01-10 & ID\\_16 & nan      \\\\\n",
       "\t nan     &  150 & 1,000 & nan & bob    & North       & 20000       & 2021-01-10 & ID\\_11 & average  \\\\\n",
       "\t nan     &   50 & 4,000 & 50\\% & bob    & East        & 5000        & 2021-06-15 & ID\\_16 & excellent\\\\\n",
       "\t 200     &   NA & 3,500 & 30\\% &  Alice & south south & 20000       & 2021-01-10 & ID\\_8  & average  \\\\\n",
       "\\end{tabular}\n"
      ],
      "text/markdown": [
       "\n",
       "A tibble: 6 × 10\n",
       "\n",
       "| product_a &lt;chr&gt; | product_b &lt;dbl&gt; | price &lt;chr&gt; | growth_rate &lt;chr&gt; | customer_name &lt;chr&gt; | region &lt;chr&gt; | sales_target &lt;chr&gt; | order_date &lt;chr&gt; | employee_id &lt;chr&gt; | feedback &lt;chr&gt; |\n",
       "|---|---|---|---|---|---|---|---|---|---|\n",
       "| unknown | 9999 | 2,500 | 50% | dave   | west        | 5000        | 2021-06-15 | ID_19 | poor      |\n",
       "| nan     |   50 | 3,500 | 50% |  Eve   | North       | unavailable | 2022-03-22 | ID_15 | poor      |\n",
       "| 300     | 9999 | 1,000 | 10% |  Alice | East        | 30000       | 2021-01-10 | ID_16 | nan       |\n",
       "| nan     |  150 | 1,000 | nan | bob    | North       | 20000       | 2021-01-10 | ID_11 | average   |\n",
       "| nan     |   50 | 4,000 | 50% | bob    | East        | 5000        | 2021-06-15 | ID_16 | excellent |\n",
       "| 200     |   NA | 3,500 | 30% |  Alice | south south | 20000       | 2021-01-10 | ID_8  | average   |\n",
       "\n"
      ],
      "text/plain": [
       "  product_a product_b price growth_rate customer_name region      sales_target\n",
       "1 unknown   9999      2,500 50%         dave          west        5000        \n",
       "2 nan         50      3,500 50%          Eve          North       unavailable \n",
       "3 300       9999      1,000 10%          Alice        East        30000       \n",
       "4 nan        150      1,000 nan         bob           North       20000       \n",
       "5 nan         50      4,000 50%         bob           East        5000        \n",
       "6 200         NA      3,500 30%          Alice        south south 20000       \n",
       "  order_date employee_id feedback \n",
       "1 2021-06-15 ID_19       poor     \n",
       "2 2022-03-22 ID_15       poor     \n",
       "3 2021-01-10 ID_16       nan      \n",
       "4 2021-01-10 ID_11       average  \n",
       "5 2021-06-15 ID_16       excellent\n",
       "6 2021-01-10 ID_8        average  "
      ]
     },
     "metadata": {},
     "output_type": "display_data"
    }
   ],
   "source": [
    "dta_file <- url(\"https://raw.githubusercontent.com/mvillalbao/GMU_Experimental/refs/heads/main/01_data/raw_dataset.dta\") # replace with path/to/dta_file.dta\n",
    "\n",
    "library(haven)\n",
    "data_dta <- read_dta(dta_file)\n",
    "\n",
    "head(data_dta)"
   ]
  },
  {
   "cell_type": "markdown",
   "metadata": {},
   "source": [
    "### Text Files"
   ]
  },
  {
   "cell_type": "code",
   "execution_count": 4,
   "metadata": {
    "vscode": {
     "languageId": "r"
    }
   },
   "outputs": [
    {
     "data": {
      "text/html": [
       "<table class=\"dataframe\">\n",
       "<caption>A data.frame: 6 × 10</caption>\n",
       "<thead>\n",
       "\t<tr><th></th><th scope=col>product_A</th><th scope=col>product_B</th><th scope=col>price</th><th scope=col>growth_rate</th><th scope=col>customer_name</th><th scope=col>region</th><th scope=col>sales_target</th><th scope=col>order_date</th><th scope=col>employee_id</th><th scope=col>feedback</th></tr>\n",
       "\t<tr><th></th><th scope=col>&lt;chr&gt;</th><th scope=col>&lt;int&gt;</th><th scope=col>&lt;chr&gt;</th><th scope=col>&lt;chr&gt;</th><th scope=col>&lt;chr&gt;</th><th scope=col>&lt;chr&gt;</th><th scope=col>&lt;chr&gt;</th><th scope=col>&lt;chr&gt;</th><th scope=col>&lt;chr&gt;</th><th scope=col>&lt;chr&gt;</th></tr>\n",
       "</thead>\n",
       "<tbody>\n",
       "\t<tr><th scope=row>1</th><td>unknown</td><td>9999</td><td>2,500</td><td>50%</td><td>dave   </td><td>west       </td><td>5000       </td><td>2021-06-15</td><td>ID_19</td><td>poor     </td></tr>\n",
       "\t<tr><th scope=row>2</th><td>nan    </td><td>  50</td><td>3,500</td><td>50%</td><td> Eve   </td><td>North      </td><td>unavailable</td><td>2022-03-22</td><td>ID_15</td><td>poor     </td></tr>\n",
       "\t<tr><th scope=row>3</th><td>300    </td><td>9999</td><td>1,000</td><td>10%</td><td> Alice </td><td>East       </td><td>30000      </td><td>2021-01-10</td><td>ID_16</td><td>nan      </td></tr>\n",
       "\t<tr><th scope=row>4</th><td>nan    </td><td> 150</td><td>1,000</td><td>nan</td><td>bob    </td><td>North      </td><td>20000      </td><td>2021-01-10</td><td>ID_11</td><td>average  </td></tr>\n",
       "\t<tr><th scope=row>5</th><td>nan    </td><td>  50</td><td>4,000</td><td>50%</td><td>bob    </td><td>East       </td><td>5000       </td><td>2021-06-15</td><td>ID_16</td><td>excellent</td></tr>\n",
       "\t<tr><th scope=row>6</th><td>200    </td><td>  NA</td><td>3,500</td><td>30%</td><td> Alice </td><td>south south</td><td>20000      </td><td>2021-01-10</td><td>ID_8 </td><td>average  </td></tr>\n",
       "</tbody>\n",
       "</table>\n"
      ],
      "text/latex": [
       "A data.frame: 6 × 10\n",
       "\\begin{tabular}{r|llllllllll}\n",
       "  & product\\_A & product\\_B & price & growth\\_rate & customer\\_name & region & sales\\_target & order\\_date & employee\\_id & feedback\\\\\n",
       "  & <chr> & <int> & <chr> & <chr> & <chr> & <chr> & <chr> & <chr> & <chr> & <chr>\\\\\n",
       "\\hline\n",
       "\t1 & unknown & 9999 & 2,500 & 50\\% & dave    & west        & 5000        & 2021-06-15 & ID\\_19 & poor     \\\\\n",
       "\t2 & nan     &   50 & 3,500 & 50\\% &  Eve    & North       & unavailable & 2022-03-22 & ID\\_15 & poor     \\\\\n",
       "\t3 & 300     & 9999 & 1,000 & 10\\% &  Alice  & East        & 30000       & 2021-01-10 & ID\\_16 & nan      \\\\\n",
       "\t4 & nan     &  150 & 1,000 & nan & bob     & North       & 20000       & 2021-01-10 & ID\\_11 & average  \\\\\n",
       "\t5 & nan     &   50 & 4,000 & 50\\% & bob     & East        & 5000        & 2021-06-15 & ID\\_16 & excellent\\\\\n",
       "\t6 & 200     &   NA & 3,500 & 30\\% &  Alice  & south south & 20000       & 2021-01-10 & ID\\_8  & average  \\\\\n",
       "\\end{tabular}\n"
      ],
      "text/markdown": [
       "\n",
       "A data.frame: 6 × 10\n",
       "\n",
       "| <!--/--> | product_A &lt;chr&gt; | product_B &lt;int&gt; | price &lt;chr&gt; | growth_rate &lt;chr&gt; | customer_name &lt;chr&gt; | region &lt;chr&gt; | sales_target &lt;chr&gt; | order_date &lt;chr&gt; | employee_id &lt;chr&gt; | feedback &lt;chr&gt; |\n",
       "|---|---|---|---|---|---|---|---|---|---|---|\n",
       "| 1 | unknown | 9999 | 2,500 | 50% | dave    | west        | 5000        | 2021-06-15 | ID_19 | poor      |\n",
       "| 2 | nan     |   50 | 3,500 | 50% |  Eve    | North       | unavailable | 2022-03-22 | ID_15 | poor      |\n",
       "| 3 | 300     | 9999 | 1,000 | 10% |  Alice  | East        | 30000       | 2021-01-10 | ID_16 | nan       |\n",
       "| 4 | nan     |  150 | 1,000 | nan | bob     | North       | 20000       | 2021-01-10 | ID_11 | average   |\n",
       "| 5 | nan     |   50 | 4,000 | 50% | bob     | East        | 5000        | 2021-06-15 | ID_16 | excellent |\n",
       "| 6 | 200     |   NA | 3,500 | 30% |  Alice  | south south | 20000       | 2021-01-10 | ID_8  | average   |\n",
       "\n"
      ],
      "text/plain": [
       "  product_A product_B price growth_rate customer_name region      sales_target\n",
       "1 unknown   9999      2,500 50%         dave          west        5000        \n",
       "2 nan         50      3,500 50%          Eve          North       unavailable \n",
       "3 300       9999      1,000 10%          Alice        East        30000       \n",
       "4 nan        150      1,000 nan         bob           North       20000       \n",
       "5 nan         50      4,000 50%         bob           East        5000        \n",
       "6 200         NA      3,500 30%          Alice        south south 20000       \n",
       "  order_date employee_id feedback \n",
       "1 2021-06-15 ID_19       poor     \n",
       "2 2022-03-22 ID_15       poor     \n",
       "3 2021-01-10 ID_16       nan      \n",
       "4 2021-01-10 ID_11       average  \n",
       "5 2021-06-15 ID_16       excellent\n",
       "6 2021-01-10 ID_8        average  "
      ]
     },
     "metadata": {},
     "output_type": "display_data"
    }
   ],
   "source": [
    "txt_file <- url(\"https://raw.githubusercontent.com/mvillalbao/GMU_Experimental/refs/heads/main/01_data/raw_dataset.txt\") # replace with path/to/txt_file.txt\n",
    "\n",
    "data_txt <- read.table(txt_file, header = TRUE, sep = \"\\t\")\n",
    "\n",
    "head(data_txt)"
   ]
  },
  {
   "cell_type": "markdown",
   "metadata": {},
   "source": [
    "### SPSS Files"
   ]
  },
  {
   "cell_type": "code",
   "execution_count": 5,
   "metadata": {
    "vscode": {
     "languageId": "r"
    }
   },
   "outputs": [
    {
     "data": {
      "text/html": [
       "<table class=\"dataframe\">\n",
       "<caption>A tibble: 6 × 10</caption>\n",
       "<thead>\n",
       "\t<tr><th scope=col>product_A</th><th scope=col>product_B</th><th scope=col>price</th><th scope=col>growth_rate</th><th scope=col>customer_name</th><th scope=col>region</th><th scope=col>sales_target</th><th scope=col>order_date</th><th scope=col>employee_id</th><th scope=col>feedback</th></tr>\n",
       "\t<tr><th scope=col>&lt;chr&gt;</th><th scope=col>&lt;dbl&gt;</th><th scope=col>&lt;chr&gt;</th><th scope=col>&lt;chr&gt;</th><th scope=col>&lt;chr&gt;</th><th scope=col>&lt;chr&gt;</th><th scope=col>&lt;chr&gt;</th><th scope=col>&lt;chr&gt;</th><th scope=col>&lt;chr&gt;</th><th scope=col>&lt;chr&gt;</th></tr>\n",
       "</thead>\n",
       "<tbody>\n",
       "\t<tr><td>unknown</td><td>9999</td><td>2,500</td><td>50%</td><td>dave  </td><td>west       </td><td>5000       </td><td>2021-06-15</td><td>ID_19</td><td>poor     </td></tr>\n",
       "\t<tr><td>nan    </td><td>  50</td><td>3,500</td><td>50%</td><td> Eve  </td><td>North      </td><td>unavailable</td><td>2022-03-22</td><td>ID_15</td><td>poor     </td></tr>\n",
       "\t<tr><td>300    </td><td>9999</td><td>1,000</td><td>10%</td><td> Alice</td><td>East       </td><td>30000      </td><td>2021-01-10</td><td>ID_16</td><td>nan      </td></tr>\n",
       "\t<tr><td>nan    </td><td> 150</td><td>1,000</td><td>nan</td><td>bob   </td><td>North      </td><td>20000      </td><td>2021-01-10</td><td>ID_11</td><td>average  </td></tr>\n",
       "\t<tr><td>nan    </td><td>  50</td><td>4,000</td><td>50%</td><td>bob   </td><td>East       </td><td>5000       </td><td>2021-06-15</td><td>ID_16</td><td>excellent</td></tr>\n",
       "\t<tr><td>200    </td><td>  NA</td><td>3,500</td><td>30%</td><td> Alice</td><td>south south</td><td>20000      </td><td>2021-01-10</td><td>ID_8 </td><td>average  </td></tr>\n",
       "</tbody>\n",
       "</table>\n"
      ],
      "text/latex": [
       "A tibble: 6 × 10\n",
       "\\begin{tabular}{llllllllll}\n",
       " product\\_A & product\\_B & price & growth\\_rate & customer\\_name & region & sales\\_target & order\\_date & employee\\_id & feedback\\\\\n",
       " <chr> & <dbl> & <chr> & <chr> & <chr> & <chr> & <chr> & <chr> & <chr> & <chr>\\\\\n",
       "\\hline\n",
       "\t unknown & 9999 & 2,500 & 50\\% & dave   & west        & 5000        & 2021-06-15 & ID\\_19 & poor     \\\\\n",
       "\t nan     &   50 & 3,500 & 50\\% &  Eve   & North       & unavailable & 2022-03-22 & ID\\_15 & poor     \\\\\n",
       "\t 300     & 9999 & 1,000 & 10\\% &  Alice & East        & 30000       & 2021-01-10 & ID\\_16 & nan      \\\\\n",
       "\t nan     &  150 & 1,000 & nan & bob    & North       & 20000       & 2021-01-10 & ID\\_11 & average  \\\\\n",
       "\t nan     &   50 & 4,000 & 50\\% & bob    & East        & 5000        & 2021-06-15 & ID\\_16 & excellent\\\\\n",
       "\t 200     &   NA & 3,500 & 30\\% &  Alice & south south & 20000       & 2021-01-10 & ID\\_8  & average  \\\\\n",
       "\\end{tabular}\n"
      ],
      "text/markdown": [
       "\n",
       "A tibble: 6 × 10\n",
       "\n",
       "| product_A &lt;chr&gt; | product_B &lt;dbl&gt; | price &lt;chr&gt; | growth_rate &lt;chr&gt; | customer_name &lt;chr&gt; | region &lt;chr&gt; | sales_target &lt;chr&gt; | order_date &lt;chr&gt; | employee_id &lt;chr&gt; | feedback &lt;chr&gt; |\n",
       "|---|---|---|---|---|---|---|---|---|---|\n",
       "| unknown | 9999 | 2,500 | 50% | dave   | west        | 5000        | 2021-06-15 | ID_19 | poor      |\n",
       "| nan     |   50 | 3,500 | 50% |  Eve   | North       | unavailable | 2022-03-22 | ID_15 | poor      |\n",
       "| 300     | 9999 | 1,000 | 10% |  Alice | East        | 30000       | 2021-01-10 | ID_16 | nan       |\n",
       "| nan     |  150 | 1,000 | nan | bob    | North       | 20000       | 2021-01-10 | ID_11 | average   |\n",
       "| nan     |   50 | 4,000 | 50% | bob    | East        | 5000        | 2021-06-15 | ID_16 | excellent |\n",
       "| 200     |   NA | 3,500 | 30% |  Alice | south south | 20000       | 2021-01-10 | ID_8  | average   |\n",
       "\n"
      ],
      "text/plain": [
       "  product_A product_B price growth_rate customer_name region      sales_target\n",
       "1 unknown   9999      2,500 50%         dave          west        5000        \n",
       "2 nan         50      3,500 50%          Eve          North       unavailable \n",
       "3 300       9999      1,000 10%          Alice        East        30000       \n",
       "4 nan        150      1,000 nan         bob           North       20000       \n",
       "5 nan         50      4,000 50%         bob           East        5000        \n",
       "6 200         NA      3,500 30%          Alice        south south 20000       \n",
       "  order_date employee_id feedback \n",
       "1 2021-06-15 ID_19       poor     \n",
       "2 2022-03-22 ID_15       poor     \n",
       "3 2021-01-10 ID_16       nan      \n",
       "4 2021-01-10 ID_11       average  \n",
       "5 2021-06-15 ID_16       excellent\n",
       "6 2021-01-10 ID_8        average  "
      ]
     },
     "metadata": {},
     "output_type": "display_data"
    }
   ],
   "source": [
    "sav_file <- url(\"https://raw.githubusercontent.com/mvillalbao/GMU_Experimental/refs/heads/main/01_data/raw_dataset.sav\") # replace with path/to/sav_file.sav\n",
    "\n",
    "data_sav <- read_sav(sav_file)\n",
    "\n",
    "head(data_sav)"
   ]
  },
  {
   "cell_type": "markdown",
   "metadata": {},
   "source": [
    "## Data Cleaning Example"
   ]
  },
  {
   "cell_type": "code",
   "execution_count": 6,
   "metadata": {
    "vscode": {
     "languageId": "r"
    }
   },
   "outputs": [
    {
     "data": {
      "text/html": [
       "<table class=\"dataframe\">\n",
       "<caption>A data.frame: 6 × 10</caption>\n",
       "<thead>\n",
       "\t<tr><th></th><th scope=col>product_A</th><th scope=col>product_B</th><th scope=col>price</th><th scope=col>growth_rate</th><th scope=col>customer_name</th><th scope=col>region</th><th scope=col>sales_target</th><th scope=col>order_date</th><th scope=col>employee_id</th><th scope=col>feedback</th></tr>\n",
       "\t<tr><th></th><th scope=col>&lt;chr&gt;</th><th scope=col>&lt;dbl&gt;</th><th scope=col>&lt;chr&gt;</th><th scope=col>&lt;chr&gt;</th><th scope=col>&lt;chr&gt;</th><th scope=col>&lt;chr&gt;</th><th scope=col>&lt;chr&gt;</th><th scope=col>&lt;chr&gt;</th><th scope=col>&lt;chr&gt;</th><th scope=col>&lt;chr&gt;</th></tr>\n",
       "</thead>\n",
       "<tbody>\n",
       "\t<tr><th scope=row>1</th><td>unknown</td><td>9999</td><td>2,500</td><td>50%</td><td>dave   </td><td>west       </td><td>5000       </td><td>2021-06-15</td><td>ID_19</td><td>poor     </td></tr>\n",
       "\t<tr><th scope=row>2</th><td>nan    </td><td>  50</td><td>3,500</td><td>50%</td><td> Eve   </td><td>North      </td><td>unavailable</td><td>2022-03-22</td><td>ID_15</td><td>poor     </td></tr>\n",
       "\t<tr><th scope=row>3</th><td>300    </td><td>9999</td><td>1,000</td><td>10%</td><td> Alice </td><td>East       </td><td>30000      </td><td>2021-01-10</td><td>ID_16</td><td>nan      </td></tr>\n",
       "\t<tr><th scope=row>4</th><td>nan    </td><td> 150</td><td>1,000</td><td>nan</td><td>bob    </td><td>North      </td><td>20000      </td><td>2021-01-10</td><td>ID_11</td><td>average  </td></tr>\n",
       "\t<tr><th scope=row>5</th><td>nan    </td><td>  50</td><td>4,000</td><td>50%</td><td>bob    </td><td>East       </td><td>5000       </td><td>2021-06-15</td><td>ID_16</td><td>excellent</td></tr>\n",
       "\t<tr><th scope=row>6</th><td>200    </td><td>  NA</td><td>3,500</td><td>30%</td><td> Alice </td><td>south south</td><td>20000      </td><td>2021-01-10</td><td>ID_8 </td><td>average  </td></tr>\n",
       "</tbody>\n",
       "</table>\n"
      ],
      "text/latex": [
       "A data.frame: 6 × 10\n",
       "\\begin{tabular}{r|llllllllll}\n",
       "  & product\\_A & product\\_B & price & growth\\_rate & customer\\_name & region & sales\\_target & order\\_date & employee\\_id & feedback\\\\\n",
       "  & <chr> & <dbl> & <chr> & <chr> & <chr> & <chr> & <chr> & <chr> & <chr> & <chr>\\\\\n",
       "\\hline\n",
       "\t1 & unknown & 9999 & 2,500 & 50\\% & dave    & west        & 5000        & 2021-06-15 & ID\\_19 & poor     \\\\\n",
       "\t2 & nan     &   50 & 3,500 & 50\\% &  Eve    & North       & unavailable & 2022-03-22 & ID\\_15 & poor     \\\\\n",
       "\t3 & 300     & 9999 & 1,000 & 10\\% &  Alice  & East        & 30000       & 2021-01-10 & ID\\_16 & nan      \\\\\n",
       "\t4 & nan     &  150 & 1,000 & nan & bob     & North       & 20000       & 2021-01-10 & ID\\_11 & average  \\\\\n",
       "\t5 & nan     &   50 & 4,000 & 50\\% & bob     & East        & 5000        & 2021-06-15 & ID\\_16 & excellent\\\\\n",
       "\t6 & 200     &   NA & 3,500 & 30\\% &  Alice  & south south & 20000       & 2021-01-10 & ID\\_8  & average  \\\\\n",
       "\\end{tabular}\n"
      ],
      "text/markdown": [
       "\n",
       "A data.frame: 6 × 10\n",
       "\n",
       "| <!--/--> | product_A &lt;chr&gt; | product_B &lt;dbl&gt; | price &lt;chr&gt; | growth_rate &lt;chr&gt; | customer_name &lt;chr&gt; | region &lt;chr&gt; | sales_target &lt;chr&gt; | order_date &lt;chr&gt; | employee_id &lt;chr&gt; | feedback &lt;chr&gt; |\n",
       "|---|---|---|---|---|---|---|---|---|---|---|\n",
       "| 1 | unknown | 9999 | 2,500 | 50% | dave    | west        | 5000        | 2021-06-15 | ID_19 | poor      |\n",
       "| 2 | nan     |   50 | 3,500 | 50% |  Eve    | North       | unavailable | 2022-03-22 | ID_15 | poor      |\n",
       "| 3 | 300     | 9999 | 1,000 | 10% |  Alice  | East        | 30000       | 2021-01-10 | ID_16 | nan       |\n",
       "| 4 | nan     |  150 | 1,000 | nan | bob     | North       | 20000       | 2021-01-10 | ID_11 | average   |\n",
       "| 5 | nan     |   50 | 4,000 | 50% | bob     | East        | 5000        | 2021-06-15 | ID_16 | excellent |\n",
       "| 6 | 200     |   NA | 3,500 | 30% |  Alice  | south south | 20000       | 2021-01-10 | ID_8  | average   |\n",
       "\n"
      ],
      "text/plain": [
       "  product_A product_B price growth_rate customer_name region      sales_target\n",
       "1 unknown   9999      2,500 50%         dave          west        5000        \n",
       "2 nan         50      3,500 50%          Eve          North       unavailable \n",
       "3 300       9999      1,000 10%          Alice        East        30000       \n",
       "4 nan        150      1,000 nan         bob           North       20000       \n",
       "5 nan         50      4,000 50%         bob           East        5000        \n",
       "6 200         NA      3,500 30%          Alice        south south 20000       \n",
       "  order_date employee_id feedback \n",
       "1 2021-06-15 ID_19       poor     \n",
       "2 2022-03-22 ID_15       poor     \n",
       "3 2021-01-10 ID_16       nan      \n",
       "4 2021-01-10 ID_11       average  \n",
       "5 2021-06-15 ID_16       excellent\n",
       "6 2021-01-10 ID_8        average  "
      ]
     },
     "metadata": {},
     "output_type": "display_data"
    }
   ],
   "source": [
    "csv_file <- url(\"https://raw.githubusercontent.com/mvillalbao/GMU_Experimental/refs/heads/main/01_data/raw_dataset.csv\") # replace with path/to/csv_file.csv\n",
    "\n",
    "data <- read.csv(csv_file)\n",
    "head(data)"
   ]
  },
  {
   "cell_type": "markdown",
   "metadata": {},
   "source": [
    "In R, you can generate new variables by simply assigning them to your dataset.\n",
    "\n",
    "Let's say we want to create a new variable `total_sales` as the sum of `product_A` and `product_B`"
   ]
  },
  {
   "cell_type": "code",
   "execution_count": 7,
   "metadata": {
    "vscode": {
     "languageId": "r"
    }
   },
   "outputs": [
    {
     "name": "stderr",
     "output_type": "stream",
     "text": [
      "Warning message in eval(expr, envir, enclos):\n",
      "\"NAs introduced by coercion\"\n"
     ]
    },
    {
     "data": {
      "text/html": [
       "<style>\n",
       ".list-inline {list-style: none; margin:0; padding: 0}\n",
       ".list-inline>li {display: inline-block}\n",
       ".list-inline>li:not(:last-child)::after {content: \"\\00b7\"; padding: 0 .5ex}\n",
       "</style>\n",
       "<ol class=list-inline><li>9999</li><li>50</li><li>10299</li><li>150</li><li>50</li><li>200</li><li>550</li><li>10299</li><li>550</li><li>250</li></ol>\n"
      ],
      "text/latex": [
       "\\begin{enumerate*}\n",
       "\\item 9999\n",
       "\\item 50\n",
       "\\item 10299\n",
       "\\item 150\n",
       "\\item 50\n",
       "\\item 200\n",
       "\\item 550\n",
       "\\item 10299\n",
       "\\item 550\n",
       "\\item 250\n",
       "\\end{enumerate*}\n"
      ],
      "text/markdown": [
       "1. 9999\n",
       "2. 50\n",
       "3. 10299\n",
       "4. 150\n",
       "5. 50\n",
       "6. 200\n",
       "7. 550\n",
       "8. 10299\n",
       "9. 550\n",
       "10. 250\n",
       "\n",
       "\n"
      ],
      "text/plain": [
       " [1]  9999    50 10299   150    50   200   550 10299   550   250"
      ]
     },
     "metadata": {},
     "output_type": "display_data"
    }
   ],
   "source": [
    "data$product_A <- as.numeric(data$product_A) # We coerce 'product_A' to numeric\n",
    "data$total_sales <- rowSums(data[, c(\"product_A\", \"product_B\")], na.rm = TRUE)\n",
    "\n",
    "data$total_sales[1:10]"
   ]
  },
  {
   "cell_type": "markdown",
   "metadata": {},
   "source": [
    "The `price` column contains commas instead of points for decimals."
   ]
  },
  {
   "cell_type": "code",
   "execution_count": 8,
   "metadata": {
    "vscode": {
     "languageId": "r"
    }
   },
   "outputs": [
    {
     "data": {
      "text/html": [
       "<style>\n",
       ".list-inline {list-style: none; margin:0; padding: 0}\n",
       ".list-inline>li {display: inline-block}\n",
       ".list-inline>li:not(:last-child)::after {content: \"\\00b7\"; padding: 0 .5ex}\n",
       "</style>\n",
       "<ol class=list-inline><li>2.5</li><li>3.5</li><li>1</li><li>1</li><li>4</li><li>3.5</li><li>5.75</li><li>3.5</li><li>4</li><li>4</li></ol>\n"
      ],
      "text/latex": [
       "\\begin{enumerate*}\n",
       "\\item 2.5\n",
       "\\item 3.5\n",
       "\\item 1\n",
       "\\item 1\n",
       "\\item 4\n",
       "\\item 3.5\n",
       "\\item 5.75\n",
       "\\item 3.5\n",
       "\\item 4\n",
       "\\item 4\n",
       "\\end{enumerate*}\n"
      ],
      "text/markdown": [
       "1. 2.5\n",
       "2. 3.5\n",
       "3. 1\n",
       "4. 1\n",
       "5. 4\n",
       "6. 3.5\n",
       "7. 5.75\n",
       "8. 3.5\n",
       "9. 4\n",
       "10. 4\n",
       "\n",
       "\n"
      ],
      "text/plain": [
       " [1] 2.50 3.50 1.00 1.00 4.00 3.50 5.75 3.50 4.00 4.00"
      ]
     },
     "metadata": {},
     "output_type": "display_data"
    }
   ],
   "source": [
    "data$price <- as.numeric(gsub(\",\", \".\", data$price))\n",
    "\n",
    "data$price[1:10]"
   ]
  },
  {
   "cell_type": "markdown",
   "metadata": {},
   "source": [
    "The `growth_rate` string column contains percentages (e.g., \"50%\")."
   ]
  },
  {
   "cell_type": "code",
   "execution_count": 9,
   "metadata": {
    "vscode": {
     "languageId": "r"
    }
   },
   "outputs": [
    {
     "data": {
      "text/html": [
       "<style>\n",
       ".list-inline {list-style: none; margin:0; padding: 0}\n",
       ".list-inline>li {display: inline-block}\n",
       ".list-inline>li:not(:last-child)::after {content: \"\\00b7\"; padding: 0 .5ex}\n",
       "</style>\n",
       "<ol class=list-inline><li>0.5</li><li>0.5</li><li>0.1</li><li>NaN</li><li>0.5</li><li>0.3</li><li>0.4</li><li>0.1</li><li>0.4</li><li>0.5</li></ol>\n"
      ],
      "text/latex": [
       "\\begin{enumerate*}\n",
       "\\item 0.5\n",
       "\\item 0.5\n",
       "\\item 0.1\n",
       "\\item NaN\n",
       "\\item 0.5\n",
       "\\item 0.3\n",
       "\\item 0.4\n",
       "\\item 0.1\n",
       "\\item 0.4\n",
       "\\item 0.5\n",
       "\\end{enumerate*}\n"
      ],
      "text/markdown": [
       "1. 0.5\n",
       "2. 0.5\n",
       "3. 0.1\n",
       "4. NaN\n",
       "5. 0.5\n",
       "6. 0.3\n",
       "7. 0.4\n",
       "8. 0.1\n",
       "9. 0.4\n",
       "10. 0.5\n",
       "\n",
       "\n"
      ],
      "text/plain": [
       " [1] 0.5 0.5 0.1 NaN 0.5 0.3 0.4 0.1 0.4 0.5"
      ]
     },
     "metadata": {},
     "output_type": "display_data"
    }
   ],
   "source": [
    "data$growth_rate <- as.numeric(gsub(\"%\", \"\", data$growth_rate))/100\n",
    "\n",
    "data$growth_rate[1:10]"
   ]
  },
  {
   "cell_type": "markdown",
   "metadata": {},
   "source": [
    "Clean `customer_name` and `region` column: remove leading/trailing spaces and standardize to lowercase.\n"
   ]
  },
  {
   "cell_type": "code",
   "execution_count": 10,
   "metadata": {
    "vscode": {
     "languageId": "r"
    }
   },
   "outputs": [
    {
     "data": {
      "text/html": [
       "<table class=\"dataframe\">\n",
       "<caption>A data.frame: 5 × 2</caption>\n",
       "<thead>\n",
       "\t<tr><th></th><th scope=col>customer_name</th><th scope=col>region</th></tr>\n",
       "\t<tr><th></th><th scope=col>&lt;chr&gt;</th><th scope=col>&lt;chr&gt;</th></tr>\n",
       "</thead>\n",
       "<tbody>\n",
       "\t<tr><th scope=row>1</th><td>dave </td><td>west </td></tr>\n",
       "\t<tr><th scope=row>2</th><td>eve  </td><td>north</td></tr>\n",
       "\t<tr><th scope=row>3</th><td>alice</td><td>east </td></tr>\n",
       "\t<tr><th scope=row>4</th><td>bob  </td><td>north</td></tr>\n",
       "\t<tr><th scope=row>5</th><td>bob  </td><td>east </td></tr>\n",
       "</tbody>\n",
       "</table>\n"
      ],
      "text/latex": [
       "A data.frame: 5 × 2\n",
       "\\begin{tabular}{r|ll}\n",
       "  & customer\\_name & region\\\\\n",
       "  & <chr> & <chr>\\\\\n",
       "\\hline\n",
       "\t1 & dave  & west \\\\\n",
       "\t2 & eve   & north\\\\\n",
       "\t3 & alice & east \\\\\n",
       "\t4 & bob   & north\\\\\n",
       "\t5 & bob   & east \\\\\n",
       "\\end{tabular}\n"
      ],
      "text/markdown": [
       "\n",
       "A data.frame: 5 × 2\n",
       "\n",
       "| <!--/--> | customer_name &lt;chr&gt; | region &lt;chr&gt; |\n",
       "|---|---|---|\n",
       "| 1 | dave  | west  |\n",
       "| 2 | eve   | north |\n",
       "| 3 | alice | east  |\n",
       "| 4 | bob   | north |\n",
       "| 5 | bob   | east  |\n",
       "\n"
      ],
      "text/plain": [
       "  customer_name region\n",
       "1 dave          west  \n",
       "2 eve           north \n",
       "3 alice         east  \n",
       "4 bob           north \n",
       "5 bob           east  "
      ]
     },
     "metadata": {},
     "output_type": "display_data"
    }
   ],
   "source": [
    "data$customer_name <- tolower(trimws(data$customer_name))\n",
    "data$region <- tolower(trimws(data$region))\n",
    "\n",
    "data[1:5, c(\"customer_name\", \"region\")]"
   ]
  },
  {
   "cell_type": "markdown",
   "metadata": {},
   "source": [
    "For `sales_target`, convert \"unavailable\" to NA and then convert the column to numeric.\n"
   ]
  },
  {
   "cell_type": "code",
   "execution_count": 11,
   "metadata": {
    "vscode": {
     "languageId": "r"
    }
   },
   "outputs": [
    {
     "data": {
      "text/html": [
       "<style>\n",
       ".list-inline {list-style: none; margin:0; padding: 0}\n",
       ".list-inline>li {display: inline-block}\n",
       ".list-inline>li:not(:last-child)::after {content: \"\\00b7\"; padding: 0 .5ex}\n",
       "</style>\n",
       "<ol class=list-inline><li>5000</li><li>&lt;NA&gt;</li><li>30000</li><li>20000</li><li>5000</li><li>20000</li><li>5000</li><li>5000</li><li>5000</li><li>30000</li></ol>\n"
      ],
      "text/latex": [
       "\\begin{enumerate*}\n",
       "\\item 5000\n",
       "\\item <NA>\n",
       "\\item 30000\n",
       "\\item 20000\n",
       "\\item 5000\n",
       "\\item 20000\n",
       "\\item 5000\n",
       "\\item 5000\n",
       "\\item 5000\n",
       "\\item 30000\n",
       "\\end{enumerate*}\n"
      ],
      "text/markdown": [
       "1. 5000\n",
       "2. &lt;NA&gt;\n",
       "3. 30000\n",
       "4. 20000\n",
       "5. 5000\n",
       "6. 20000\n",
       "7. 5000\n",
       "8. 5000\n",
       "9. 5000\n",
       "10. 30000\n",
       "\n",
       "\n"
      ],
      "text/plain": [
       " [1]  5000    NA 30000 20000  5000 20000  5000  5000  5000 30000"
      ]
     },
     "metadata": {},
     "output_type": "display_data"
    }
   ],
   "source": [
    "data$sales_target[data$sales_target == \"unavailable\"] <- NA\n",
    "data$sales_target <- as.numeric(data$sales_target)\n",
    "\n",
    "data$sales_target[1:10]"
   ]
  },
  {
   "cell_type": "code",
   "execution_count": 12,
   "metadata": {
    "vscode": {
     "languageId": "r"
    }
   },
   "outputs": [
    {
     "data": {
      "text/html": [
       "<table class=\"dataframe\">\n",
       "<caption>A data.frame: 6 × 11</caption>\n",
       "<thead>\n",
       "\t<tr><th></th><th scope=col>product_A</th><th scope=col>product_B</th><th scope=col>price</th><th scope=col>growth_rate</th><th scope=col>customer_name</th><th scope=col>region</th><th scope=col>sales_target</th><th scope=col>order_date</th><th scope=col>employee_id</th><th scope=col>feedback</th><th scope=col>total_sales</th></tr>\n",
       "\t<tr><th></th><th scope=col>&lt;dbl&gt;</th><th scope=col>&lt;dbl&gt;</th><th scope=col>&lt;dbl&gt;</th><th scope=col>&lt;dbl&gt;</th><th scope=col>&lt;chr&gt;</th><th scope=col>&lt;chr&gt;</th><th scope=col>&lt;dbl&gt;</th><th scope=col>&lt;chr&gt;</th><th scope=col>&lt;chr&gt;</th><th scope=col>&lt;chr&gt;</th><th scope=col>&lt;dbl&gt;</th></tr>\n",
       "</thead>\n",
       "<tbody>\n",
       "\t<tr><th scope=row>1</th><td> NA</td><td>9999</td><td>2.5</td><td>0.5</td><td>dave </td><td>west       </td><td> 5000</td><td>2021-06-15</td><td>ID_19</td><td>poor     </td><td> 9999</td></tr>\n",
       "\t<tr><th scope=row>2</th><td>NaN</td><td>  50</td><td>3.5</td><td>0.5</td><td>eve  </td><td>north      </td><td>   NA</td><td>2022-03-22</td><td>ID_15</td><td>poor     </td><td>   50</td></tr>\n",
       "\t<tr><th scope=row>3</th><td>300</td><td>9999</td><td>1.0</td><td>0.1</td><td>alice</td><td>east       </td><td>30000</td><td>2021-01-10</td><td>ID_16</td><td>nan      </td><td>10299</td></tr>\n",
       "\t<tr><th scope=row>4</th><td>NaN</td><td> 150</td><td>1.0</td><td>NaN</td><td>bob  </td><td>north      </td><td>20000</td><td>2021-01-10</td><td>ID_11</td><td>average  </td><td>  150</td></tr>\n",
       "\t<tr><th scope=row>5</th><td>NaN</td><td>  50</td><td>4.0</td><td>0.5</td><td>bob  </td><td>east       </td><td> 5000</td><td>2021-06-15</td><td>ID_16</td><td>excellent</td><td>   50</td></tr>\n",
       "\t<tr><th scope=row>6</th><td>200</td><td>  NA</td><td>3.5</td><td>0.3</td><td>alice</td><td>south south</td><td>20000</td><td>2021-01-10</td><td>ID_8 </td><td>average  </td><td>  200</td></tr>\n",
       "</tbody>\n",
       "</table>\n"
      ],
      "text/latex": [
       "A data.frame: 6 × 11\n",
       "\\begin{tabular}{r|lllllllllll}\n",
       "  & product\\_A & product\\_B & price & growth\\_rate & customer\\_name & region & sales\\_target & order\\_date & employee\\_id & feedback & total\\_sales\\\\\n",
       "  & <dbl> & <dbl> & <dbl> & <dbl> & <chr> & <chr> & <dbl> & <chr> & <chr> & <chr> & <dbl>\\\\\n",
       "\\hline\n",
       "\t1 &  NA & 9999 & 2.5 & 0.5 & dave  & west        &  5000 & 2021-06-15 & ID\\_19 & poor      &  9999\\\\\n",
       "\t2 & NaN &   50 & 3.5 & 0.5 & eve   & north       &    NA & 2022-03-22 & ID\\_15 & poor      &    50\\\\\n",
       "\t3 & 300 & 9999 & 1.0 & 0.1 & alice & east        & 30000 & 2021-01-10 & ID\\_16 & nan       & 10299\\\\\n",
       "\t4 & NaN &  150 & 1.0 & NaN & bob   & north       & 20000 & 2021-01-10 & ID\\_11 & average   &   150\\\\\n",
       "\t5 & NaN &   50 & 4.0 & 0.5 & bob   & east        &  5000 & 2021-06-15 & ID\\_16 & excellent &    50\\\\\n",
       "\t6 & 200 &   NA & 3.5 & 0.3 & alice & south south & 20000 & 2021-01-10 & ID\\_8  & average   &   200\\\\\n",
       "\\end{tabular}\n"
      ],
      "text/markdown": [
       "\n",
       "A data.frame: 6 × 11\n",
       "\n",
       "| <!--/--> | product_A &lt;dbl&gt; | product_B &lt;dbl&gt; | price &lt;dbl&gt; | growth_rate &lt;dbl&gt; | customer_name &lt;chr&gt; | region &lt;chr&gt; | sales_target &lt;dbl&gt; | order_date &lt;chr&gt; | employee_id &lt;chr&gt; | feedback &lt;chr&gt; | total_sales &lt;dbl&gt; |\n",
       "|---|---|---|---|---|---|---|---|---|---|---|---|\n",
       "| 1 |  NA | 9999 | 2.5 | 0.5 | dave  | west        |  5000 | 2021-06-15 | ID_19 | poor      |  9999 |\n",
       "| 2 | NaN |   50 | 3.5 | 0.5 | eve   | north       |    NA | 2022-03-22 | ID_15 | poor      |    50 |\n",
       "| 3 | 300 | 9999 | 1.0 | 0.1 | alice | east        | 30000 | 2021-01-10 | ID_16 | nan       | 10299 |\n",
       "| 4 | NaN |  150 | 1.0 | NaN | bob   | north       | 20000 | 2021-01-10 | ID_11 | average   |   150 |\n",
       "| 5 | NaN |   50 | 4.0 | 0.5 | bob   | east        |  5000 | 2021-06-15 | ID_16 | excellent |    50 |\n",
       "| 6 | 200 |   NA | 3.5 | 0.3 | alice | south south | 20000 | 2021-01-10 | ID_8  | average   |   200 |\n",
       "\n"
      ],
      "text/plain": [
       "  product_A product_B price growth_rate customer_name region      sales_target\n",
       "1  NA       9999      2.5   0.5         dave          west         5000       \n",
       "2 NaN         50      3.5   0.5         eve           north          NA       \n",
       "3 300       9999      1.0   0.1         alice         east        30000       \n",
       "4 NaN        150      1.0   NaN         bob           north       20000       \n",
       "5 NaN         50      4.0   0.5         bob           east         5000       \n",
       "6 200         NA      3.5   0.3         alice         south south 20000       \n",
       "  order_date employee_id feedback  total_sales\n",
       "1 2021-06-15 ID_19       poor       9999      \n",
       "2 2022-03-22 ID_15       poor         50      \n",
       "3 2021-01-10 ID_16       nan       10299      \n",
       "4 2021-01-10 ID_11       average     150      \n",
       "5 2021-06-15 ID_16       excellent    50      \n",
       "6 2021-01-10 ID_8        average     200      "
      ]
     },
     "metadata": {},
     "output_type": "display_data"
    }
   ],
   "source": [
    "head(data)"
   ]
  }
 ],
 "metadata": {
  "kernelspec": {
   "display_name": "R",
   "language": "R",
   "name": "ir"
  },
  "language_info": {
   "codemirror_mode": "r",
   "file_extension": ".r",
   "mimetype": "text/x-r-source",
   "name": "R",
   "pygments_lexer": "r",
   "version": "4.3.3"
  }
 },
 "nbformat": 4,
 "nbformat_minor": 2
}
